{
 "cells": [
  {
   "cell_type": "markdown",
   "id": "62480ff6-d08f-4fbf-b4b7-a4d272c75fcb",
   "metadata": {},
   "source": [
    "Import Libraries"
   ]
  },
  {
   "cell_type": "code",
   "execution_count": 69,
   "id": "ee5b7119-68ca-4c52-aef2-7e55ae1e7b0c",
   "metadata": {},
   "outputs": [],
   "source": [
    "import sqlite3\n",
    "import requests\n",
    "from tqdm import tqdm\n",
    "\n",
    "from flask import Flask, request\n",
    "import json \n",
    "import numpy as np\n",
    "import pandas as pd"
   ]
  },
  {
   "cell_type": "markdown",
   "id": "86774391-698b-41d4-a2fa-c9943a8e1ded",
   "metadata": {},
   "source": [
    "# Introduction\n",
    "In most cases when we are running a business, there are a lot of data stakeholder outside our company. The problem is that we need to provide the access in a way that they will not break our security rules or concerns. One way to solve that is by creating an API for the database. In this project, we will introduce you on how python is used for data transaction management using Flask API. \n",
    "\n",
    "**Usecase**: Bikeshare App\\\n",
    "Have you ever rent a bike for faster mobility in town? In the past few years, this business once become a phenomenom. In Indonesia, there are lots of similar services, for example, the Jakarta government's \"GOWES\" bike sharing service that launcehd in July 2020. \n",
    "\n",
    "For the user perspective, the general journey is denoted as follows:\n",
    "- User scan the bike located at some bike station, sending the data to database as the intent of \"start riding\"\n",
    "- Once user has reached its destination station, he/she put back the bike, sending the data again to the database as the intent of \"finished riding\"\n",
    "\n",
    "For each activity, there are data transactions between user and database. And how do you think each user's phone communicate with the server for storing and receiving the data? Using API ofcourse! \n",
    "\n",
    "We will later create a simplified version of the API service which handles data transactions and analysis. \n",
    "\n",
    "\n",
    "**Goals**: Make an API service to connect 3rd party user with data using HTTP request\n",
    "\n",
    "**End Product**: A Flask API which capable of doing: \n",
    "- Input new data to database\n",
    "- Read specific data from database\n",
    "- Get specific insight from data analysis process (ie: best performing stations)\n",
    "\n",
    "**Scoring Metrics**: \n",
    "\n",
    "1. 1 point - Created Flask App\n",
    "\n",
    "-  create app.py file to make flask app\n",
    "-  create Flask app to execute all of the endpoint you have made\n",
    "\n",
    "2. 2 points - Created functionality to read or get specific data from the database\n",
    "\n",
    "- create query to read data from database\n",
    "- create function to execute read specific information into table from database\n",
    "\n",
    "3. 4 points - Created functionality to input new data into each table for the databases\n",
    "\n",
    "- create query to insert new data into stations and trips table\n",
    "- create function to execute input data into stations and trips table\n",
    "\n",
    "4. 3 points - Created static endpoints which return analytical result (must be different from point 2,3)\n",
    "\n",
    "- create query to make analytical resultfrom the data\n",
    "- create static endpoint to analyze the data from database, for example average trip durations\n",
    "    \n",
    "5. 3 points - Created dynamic endpoints which return analytical result (must be different from point 2,3,4)\n",
    "\n",
    "- create query to make analytical resultfrom the data\n",
    "- create dinamic endpoint to analyze the data from database, for example average trip durations for each bike_id\n",
    "\n",
    "6. 3 points - Created POST endpoint which receive input data, then utilize it to get analytical result (must be different from point 2,3,4,5)\n",
    "\n",
    "- create input data for refering into query for post endpoint\n",
    "- make query and aggregation function to implement the input\n",
    "\n",
    "**Tools**: \n",
    "- **Python** with **Jupyter Notebook**, installed with **required libraries**\n",
    "- **Visual Studio Code (VSCode)**: Recommended for writing application scripts\n",
    "- **TablePlus**: Recommended for easy database access and exploration\n",
    "- Postman: Optional for easy API testing\n"
   ]
  },
  {
   "cell_type": "markdown",
   "id": "7f0d31b3-764f-4d0a-941d-443c5a502e1f",
   "metadata": {},
   "source": [
    "# About the Data"
   ]
  },
  {
   "cell_type": "markdown",
   "id": "89ec6608-cf50-4f15-993c-99f186ece82c",
   "metadata": {},
   "source": [
    "The data that we will be using in this project is **[Austin Bike Share]()** dataset which contains information on bike trip start location, stop location, duration, type of bike share user in the city of Austin, Texas. Bike station location data is also provided. \n",
    "\n",
    "All the information is stored in a database called **austin_bikeshare.db**. However, we also provides the non existing data in csv files. These data then will be imported into the database using the API"
   ]
  },
  {
   "cell_type": "markdown",
   "id": "3c4833d3-015d-4f4a-b00d-21e00af777fc",
   "metadata": {},
   "source": [
    "Lists of files:\n",
    "- **austin_bikeshare.db**: The database, contains `trips` and `stations` table\n",
    "- **data/austin_bikeshare_stations.csv**: contains all the stations information which is not yet available in the database table\n",
    "- **data/austin_bikeshare_trips_2021.csv**: contains all 2021 data which is not yet available in the database table"
   ]
  },
  {
   "cell_type": "code",
   "execution_count": 70,
   "id": "52e3d146-1a21-4b1a-9ffc-817f4f084375",
   "metadata": {},
   "outputs": [],
   "source": [
    "# Reading the csv data\n",
    "trips = pd.read_csv('data/austin_bikeshare_trips_2021.csv')\n",
    "stations = pd.read_csv('data/austin_bikeshare_stations.csv')"
   ]
  },
  {
   "cell_type": "markdown",
   "id": "60bb1c45-5b3d-4987-beb7-7aafaa6b4609",
   "metadata": {},
   "source": [
    "## Taking a look for trips data\n",
    "`trips` table in database, or `austin_bikeshare_trips.csv` in original files. It roughly consisted of 1.3 million rows"
   ]
  },
  {
   "cell_type": "code",
   "execution_count": 160,
   "id": "69039e08-e759-4950-9253-3ad44c59cddf",
   "metadata": {},
   "outputs": [
    {
     "data": {
      "text/html": [
       "<div>\n",
       "<style scoped>\n",
       "    .dataframe tbody tr th:only-of-type {\n",
       "        vertical-align: middle;\n",
       "    }\n",
       "\n",
       "    .dataframe tbody tr th {\n",
       "        vertical-align: top;\n",
       "    }\n",
       "\n",
       "    .dataframe thead th {\n",
       "        text-align: right;\n",
       "    }\n",
       "</style>\n",
       "<table border=\"1\" class=\"dataframe\">\n",
       "  <thead>\n",
       "    <tr style=\"text-align: right;\">\n",
       "      <th></th>\n",
       "      <th>trip_id</th>\n",
       "      <th>subscriber_type</th>\n",
       "      <th>bikeid</th>\n",
       "      <th>start_time</th>\n",
       "      <th>start_station_id</th>\n",
       "      <th>start_station_name</th>\n",
       "      <th>end_station_id</th>\n",
       "      <th>end_station_name</th>\n",
       "      <th>duration_minutes</th>\n",
       "    </tr>\n",
       "  </thead>\n",
       "  <tbody>\n",
       "    <tr>\n",
       "      <th>0</th>\n",
       "      <td>23455589</td>\n",
       "      <td>Local365</td>\n",
       "      <td>174</td>\n",
       "      <td>2021-01-26 17:47:42 UTC</td>\n",
       "      <td>4059.0</td>\n",
       "      <td>Nash Hernandez/East @ RBJ South</td>\n",
       "      <td>3660.0</td>\n",
       "      <td>East 6th/Medina</td>\n",
       "      <td>7</td>\n",
       "    </tr>\n",
       "    <tr>\n",
       "      <th>1</th>\n",
       "      <td>23459960</td>\n",
       "      <td>Local365</td>\n",
       "      <td>19265</td>\n",
       "      <td>2021-01-28 08:03:52 UTC</td>\n",
       "      <td>4054.0</td>\n",
       "      <td>Rosewood/Chicon</td>\n",
       "      <td>4055.0</td>\n",
       "      <td>11th/Salina</td>\n",
       "      <td>16</td>\n",
       "    </tr>\n",
       "    <tr>\n",
       "      <th>2</th>\n",
       "      <td>23436548</td>\n",
       "      <td>Local365</td>\n",
       "      <td>18331</td>\n",
       "      <td>2021-01-21 07:09:48 UTC</td>\n",
       "      <td>4055.0</td>\n",
       "      <td>11th/Salina</td>\n",
       "      <td>4055.0</td>\n",
       "      <td>11th/Salina</td>\n",
       "      <td>25</td>\n",
       "    </tr>\n",
       "    <tr>\n",
       "      <th>3</th>\n",
       "      <td>23382542</td>\n",
       "      <td>Local365</td>\n",
       "      <td>19682</td>\n",
       "      <td>2021-01-04 09:38:18 UTC</td>\n",
       "      <td>4062.0</td>\n",
       "      <td>Lakeshore/Pleasant Valley</td>\n",
       "      <td>3293.0</td>\n",
       "      <td>East 2nd/Pedernales</td>\n",
       "      <td>5</td>\n",
       "    </tr>\n",
       "    <tr>\n",
       "      <th>4</th>\n",
       "      <td>23374882</td>\n",
       "      <td>Local365</td>\n",
       "      <td>19437</td>\n",
       "      <td>2021-01-02 15:04:01 UTC</td>\n",
       "      <td>3293.0</td>\n",
       "      <td>East 2nd/Pedernales</td>\n",
       "      <td>4062.0</td>\n",
       "      <td>Lakeshore/Pleasant Valley</td>\n",
       "      <td>5</td>\n",
       "    </tr>\n",
       "  </tbody>\n",
       "</table>\n",
       "</div>"
      ],
      "text/plain": [
       "    trip_id subscriber_type bikeid               start_time  start_station_id   \n",
       "0  23455589        Local365    174  2021-01-26 17:47:42 UTC            4059.0  \\\n",
       "1  23459960        Local365  19265  2021-01-28 08:03:52 UTC            4054.0   \n",
       "2  23436548        Local365  18331  2021-01-21 07:09:48 UTC            4055.0   \n",
       "3  23382542        Local365  19682  2021-01-04 09:38:18 UTC            4062.0   \n",
       "4  23374882        Local365  19437  2021-01-02 15:04:01 UTC            3293.0   \n",
       "\n",
       "                start_station_name  end_station_id           end_station_name   \n",
       "0  Nash Hernandez/East @ RBJ South          3660.0            East 6th/Medina  \\\n",
       "1                  Rosewood/Chicon          4055.0               11th/Salina    \n",
       "2                     11th/Salina           4055.0               11th/Salina    \n",
       "3        Lakeshore/Pleasant Valley          3293.0        East 2nd/Pedernales   \n",
       "4              East 2nd/Pedernales          4062.0  Lakeshore/Pleasant Valley   \n",
       "\n",
       "   duration_minutes  \n",
       "0                 7  \n",
       "1                16  \n",
       "2                25  \n",
       "3                 5  \n",
       "4                 5  "
      ]
     },
     "execution_count": 160,
     "metadata": {},
     "output_type": "execute_result"
    }
   ],
   "source": [
    "trips.head(5)"
   ]
  },
  {
   "cell_type": "markdown",
   "id": "01ee13e1-1110-45fe-8831-1bf7604d6f87",
   "metadata": {},
   "source": [
    "**Data Descriptions**:\n",
    "- `bikeid`: integer id of bike\n",
    "- `checkout_time`: HH:MM:SS, see start time for date stamp\n",
    "- `duration_minutes`: int minutes of trip duration\n",
    "- `endstationid`: integer id of end station\n",
    "- `endstationname`: string of end station name\n",
    "- `month`: month, integer\n",
    "- `startstationid`: integer id of start station\n",
    "- `startstationname`: string of start station name\n",
    "- `start_time`: YYYY-MM-DD HH:MM:SS\n",
    "- `subscriber_type`: membership typ e.g. walk up, annual, other bike share, etc\n",
    "- `trip_id`: unique trip id int\n",
    "- `year`: year of trip, int"
   ]
  },
  {
   "cell_type": "markdown",
   "id": "44fd2bdd-a1e9-4734-b7a7-8ddc8f3ee0e2",
   "metadata": {},
   "source": [
    "## Taking a look for stations data\n",
    "`stations` table in database, or `austin_bikeshare_stations.csv` in original files "
   ]
  },
  {
   "cell_type": "code",
   "execution_count": 161,
   "id": "de5298bf-64a9-4565-a83d-ce1f4d1f4403",
   "metadata": {},
   "outputs": [
    {
     "data": {
      "text/html": [
       "<div>\n",
       "<style scoped>\n",
       "    .dataframe tbody tr th:only-of-type {\n",
       "        vertical-align: middle;\n",
       "    }\n",
       "\n",
       "    .dataframe tbody tr th {\n",
       "        vertical-align: top;\n",
       "    }\n",
       "\n",
       "    .dataframe thead th {\n",
       "        text-align: right;\n",
       "    }\n",
       "</style>\n",
       "<table border=\"1\" class=\"dataframe\">\n",
       "  <thead>\n",
       "    <tr style=\"text-align: right;\">\n",
       "      <th></th>\n",
       "      <th>station_id</th>\n",
       "      <th>name</th>\n",
       "      <th>status</th>\n",
       "      <th>address</th>\n",
       "      <th>alternate_name</th>\n",
       "      <th>city_asset_number</th>\n",
       "      <th>property_type</th>\n",
       "      <th>number_of_docks</th>\n",
       "      <th>power_type</th>\n",
       "      <th>footprint_length</th>\n",
       "      <th>footprint_width</th>\n",
       "      <th>notes</th>\n",
       "      <th>council_district</th>\n",
       "      <th>modified_date</th>\n",
       "    </tr>\n",
       "  </thead>\n",
       "  <tbody>\n",
       "    <tr>\n",
       "      <th>93</th>\n",
       "      <td>4048</td>\n",
       "      <td>South Congress @ Bouldin Creek</td>\n",
       "      <td>active</td>\n",
       "      <td>799 South Congress Avenue</td>\n",
       "      <td>NaN</td>\n",
       "      <td>32746.0</td>\n",
       "      <td>undetermined_parking</td>\n",
       "      <td>13.0</td>\n",
       "      <td>solar</td>\n",
       "      <td>40.0</td>\n",
       "      <td>5.0</td>\n",
       "      <td>NaN</td>\n",
       "      <td>9</td>\n",
       "      <td>2021-01-04T12:00:00Z</td>\n",
       "    </tr>\n",
       "    <tr>\n",
       "      <th>94</th>\n",
       "      <td>3377</td>\n",
       "      <td>MoPac Pedestrian Bridge @ Veterans Drive</td>\n",
       "      <td>active</td>\n",
       "      <td>2105 Veterans Dr.</td>\n",
       "      <td>NaN</td>\n",
       "      <td>16598.0</td>\n",
       "      <td>undetermined_parking</td>\n",
       "      <td>19.0</td>\n",
       "      <td>solar</td>\n",
       "      <td>55.0</td>\n",
       "      <td>5.0</td>\n",
       "      <td>parkland in ROW/eastment</td>\n",
       "      <td>9</td>\n",
       "      <td>2021-01-04T12:00:00Z</td>\n",
       "    </tr>\n",
       "    <tr>\n",
       "      <th>95</th>\n",
       "      <td>3794</td>\n",
       "      <td>Dean Keeton &amp; Speedway</td>\n",
       "      <td>active</td>\n",
       "      <td>180 E. Dean Keeton St.</td>\n",
       "      <td>NaN</td>\n",
       "      <td>32670.0</td>\n",
       "      <td>undetermined_parking</td>\n",
       "      <td>19.0</td>\n",
       "      <td>solar</td>\n",
       "      <td>55.0</td>\n",
       "      <td>5.0</td>\n",
       "      <td>NaN</td>\n",
       "      <td>9</td>\n",
       "      <td>2021-01-04T12:00:00Z</td>\n",
       "    </tr>\n",
       "    <tr>\n",
       "      <th>96</th>\n",
       "      <td>3795</td>\n",
       "      <td>Dean Keeton &amp; Whitis</td>\n",
       "      <td>active</td>\n",
       "      <td>300 W. Dean Keeton St.</td>\n",
       "      <td>NaN</td>\n",
       "      <td>32671.0</td>\n",
       "      <td>undetermined_parking</td>\n",
       "      <td>19.0</td>\n",
       "      <td>solar</td>\n",
       "      <td>55.0</td>\n",
       "      <td>5.0</td>\n",
       "      <td>NaN</td>\n",
       "      <td>9</td>\n",
       "      <td>2021-01-04T12:00:00Z</td>\n",
       "    </tr>\n",
       "    <tr>\n",
       "      <th>97</th>\n",
       "      <td>3797</td>\n",
       "      <td>21st &amp; University</td>\n",
       "      <td>active</td>\n",
       "      <td>2007 University Ave.</td>\n",
       "      <td>NaN</td>\n",
       "      <td>32674.0</td>\n",
       "      <td>undetermined_parking</td>\n",
       "      <td>19.0</td>\n",
       "      <td>solar</td>\n",
       "      <td>55.0</td>\n",
       "      <td>5.0</td>\n",
       "      <td>ROW might belong to UT</td>\n",
       "      <td>9</td>\n",
       "      <td>2021-01-04T12:00:00Z</td>\n",
       "    </tr>\n",
       "  </tbody>\n",
       "</table>\n",
       "</div>"
      ],
      "text/plain": [
       "    station_id                                      name  status   \n",
       "93        4048            South Congress @ Bouldin Creek  active  \\\n",
       "94        3377  MoPac Pedestrian Bridge @ Veterans Drive  active   \n",
       "95        3794                    Dean Keeton & Speedway  active   \n",
       "96        3795                      Dean Keeton & Whitis  active   \n",
       "97        3797                         21st & University  active   \n",
       "\n",
       "                      address alternate_name  city_asset_number   \n",
       "93  799 South Congress Avenue            NaN            32746.0  \\\n",
       "94          2105 Veterans Dr.            NaN            16598.0   \n",
       "95     180 E. Dean Keeton St.            NaN            32670.0   \n",
       "96     300 W. Dean Keeton St.            NaN            32671.0   \n",
       "97       2007 University Ave.            NaN            32674.0   \n",
       "\n",
       "           property_type  number_of_docks power_type  footprint_length   \n",
       "93  undetermined_parking             13.0      solar              40.0  \\\n",
       "94  undetermined_parking             19.0      solar              55.0   \n",
       "95  undetermined_parking             19.0      solar              55.0   \n",
       "96  undetermined_parking             19.0      solar              55.0   \n",
       "97  undetermined_parking             19.0      solar              55.0   \n",
       "\n",
       "    footprint_width                     notes  council_district   \n",
       "93              5.0                       NaN                 9  \\\n",
       "94              5.0  parkland in ROW/eastment                 9   \n",
       "95              5.0                       NaN                 9   \n",
       "96              5.0                       NaN                 9   \n",
       "97              5.0    ROW might belong to UT                 9   \n",
       "\n",
       "           modified_date  \n",
       "93  2021-01-04T12:00:00Z  \n",
       "94  2021-01-04T12:00:00Z  \n",
       "95  2021-01-04T12:00:00Z  \n",
       "96  2021-01-04T12:00:00Z  \n",
       "97  2021-01-04T12:00:00Z  "
      ]
     },
     "execution_count": 161,
     "metadata": {},
     "output_type": "execute_result"
    }
   ],
   "source": [
    "stations.tail(5)"
   ]
  },
  {
   "cell_type": "markdown",
   "id": "fb167853-53c1-4bd5-aea4-3bcf0d0cba5e",
   "metadata": {},
   "source": [
    "**stations table (or austin_bikeshare_trips.csv)**:\n",
    "- `station_id`: integer id of station\n",
    "- `name`: string of station name\n",
    "- `status`: string of station status (active, closed, moved, ACL-only)\n",
    "- `address`: string of station address\n",
    "- `alternate_name`: string of station alternative name\n",
    "- `city_asset_number`: integer of station's asset number\n",
    "- `property_type`: string of station's property type\n",
    "- `number_of_docks`: integer of number of available bike docks\n",
    "- `power_type`: string of station's power source type\n",
    "- `footprint_length`: float of station' blueprint length (size of the station). Probably in meters\n",
    "- `footprint_width`: float of station' blueprint width (size of the station). Probably in meters\n",
    "- `notes`: string of additional notes\n",
    "- `council_district`: integer of stations's council district\n",
    "- `modified_date`: date of last modified information regarding the station"
   ]
  },
  {
   "cell_type": "markdown",
   "id": "c424d7fc-0fe4-4010-959f-d030c825abc5",
   "metadata": {},
   "source": [
    "# Database"
   ]
  },
  {
   "cell_type": "markdown",
   "id": "c8ab9b50-dc5c-431a-a01e-b32bf0a10709",
   "metadata": {},
   "source": [
    "The first important task is to make sure we can securely make connections to the database. In this scenario, we will connect to sqlite database, `austin_bikeshare.db` via python. In this part, we will re-visit on how to work with databases, started with making a connection, get some data, and insert data into it. \n",
    "\n",
    "You can directly connect and view the database using TablePlus, or run the following code to create the connection"
   ]
  },
  {
   "cell_type": "code",
   "execution_count": 162,
   "id": "bbaec86f-2ce8-48d2-b37c-d949e53d18ce",
   "metadata": {},
   "outputs": [],
   "source": [
    "# Define a function to create connection for reusability purpose\n",
    "def make_connection():\n",
    "    connection = sqlite3.connect('austin_bikeshare.db')\n",
    "    return connection\n",
    "\n",
    "# Make a connection\n",
    "conn = make_connection()"
   ]
  },
  {
   "cell_type": "code",
   "execution_count": 163,
   "id": "a242464a",
   "metadata": {},
   "outputs": [
    {
     "data": {
      "text/plain": [
       "<sqlite3.Connection at 0x19d93c6ba40>"
      ]
     },
     "execution_count": 163,
     "metadata": {},
     "output_type": "execute_result"
    }
   ],
   "source": [
    "conn"
   ]
  },
  {
   "cell_type": "markdown",
   "id": "63da1e43-7bea-473c-9b7e-f9b86e13a8ec",
   "metadata": {},
   "source": [
    "## POST: Insert data into database\n",
    "\n",
    "Generally, POST method will utilize the data sent by user for specific purporse, for example: \n",
    "\n",
    "- Insert new data into the database. \n",
    "- Operate the data into some function"
   ]
  },
  {
   "cell_type": "markdown",
   "id": "27d0a87a-a3cf-4a38-85bb-3036718f2e62",
   "metadata": {},
   "source": [
    "We will learn how to insert data into a specific table in our database. Please refer to the following code to create and run the query for the given task"
   ]
  },
  {
   "cell_type": "code",
   "execution_count": 164,
   "id": "1d200cd0-8a48-4b45-800c-c39c25bafcb4",
   "metadata": {},
   "outputs": [
    {
     "data": {
      "text/plain": [
       "(3464,\n",
       " 'Pease Park',\n",
       " 'closed',\n",
       " '1155 Kingsbury St',\n",
       " '',\n",
       " '',\n",
       " '',\n",
       " '',\n",
       " '',\n",
       " '',\n",
       " '',\n",
       " '',\n",
       " 9,\n",
       " '2021-01-04T12:00:00Z')"
      ]
     },
     "execution_count": 164,
     "metadata": {},
     "output_type": "execute_result"
    }
   ],
   "source": [
    "# Get the data values\n",
    "data = tuple(stations.iloc[0].fillna('').values)\n",
    "\n",
    "# Make the query\n",
    "query = f\"\"\"\n",
    "INSERT INTO stations\n",
    "VALUES {data}\n",
    "\"\"\"\n",
    "\n",
    "#show data\n",
    "data"
   ]
  },
  {
   "cell_type": "code",
   "execution_count": 165,
   "id": "1bf0754c-9cea-4d62-b870-1323bb2f7c1b",
   "metadata": {},
   "outputs": [
    {
     "name": "stdout",
     "output_type": "stream",
     "text": [
      "\n",
      "INSERT INTO stations\n",
      "VALUES (3464, 'Pease Park', 'closed', '1155 Kingsbury St', '', '', '', '', '', '', '', '', 9, '2021-01-04T12:00:00Z')\n",
      "\n"
     ]
    }
   ],
   "source": [
    "# See the actual query looks like\n",
    "print(query)"
   ]
  },
  {
   "cell_type": "code",
   "execution_count": 166,
   "id": "7c5c2d27-93ee-48a2-8228-d54c26b6f3da",
   "metadata": {},
   "outputs": [
    {
     "ename": "OperationalError",
     "evalue": "database is locked",
     "output_type": "error",
     "traceback": [
      "\u001b[1;31m---------------------------------------------------------------------------\u001b[0m",
      "\u001b[1;31mOperationalError\u001b[0m                          Traceback (most recent call last)",
      "Cell \u001b[1;32mIn[166], line 2\u001b[0m\n\u001b[0;32m      1\u001b[0m \u001b[38;5;66;03m# Execute the query \u001b[39;00m\n\u001b[1;32m----> 2\u001b[0m \u001b[43mconn\u001b[49m\u001b[38;5;241;43m.\u001b[39;49m\u001b[43mexecute\u001b[49m\u001b[43m(\u001b[49m\u001b[43mquery\u001b[49m\u001b[43m)\u001b[49m\n",
      "\u001b[1;31mOperationalError\u001b[0m: database is locked"
     ]
    }
   ],
   "source": [
    "# Execute the query \n",
    "conn.execute(query)"
   ]
  },
  {
   "cell_type": "code",
   "execution_count": 59,
   "id": "3b35411a-c2bd-4a20-9663-50356ce74f7c",
   "metadata": {},
   "outputs": [],
   "source": [
    "# Commit changes to database\n",
    "conn.commit()"
   ]
  },
  {
   "cell_type": "markdown",
   "id": "433e02eb-4244-4bf9-8cd6-2f65da183431",
   "metadata": {},
   "source": [
    "Once the code above succesful, it's recomended to wrap it into a function so that we can reuse it in the future. Complete the following codes to make the function:"
   ]
  },
  {
   "cell_type": "code",
   "execution_count": 81,
   "id": "604b25b8-66f9-4707-a092-a945023133cc",
   "metadata": {},
   "outputs": [],
   "source": [
    "def insert_into_stations(data, conn):\n",
    "    query = f\"\"\"INSERT INTO stations values {data}\"\"\"\n",
    "    try:\n",
    "        conn.execute(query)\n",
    "    except:\n",
    "        return 'Error'\n",
    "    conn.commit()\n",
    "    return 'OK'"
   ]
  },
  {
   "cell_type": "code",
   "execution_count": 82,
   "id": "97b6ec11-9394-4b27-8203-4892c79cfbc5",
   "metadata": {},
   "outputs": [],
   "source": [
    "# Example use of the function \n",
    "conn = make_connection()\n",
    "data = tuple(stations.iloc[2].fillna('').values) # Randomly select a data\n",
    "result = insert_into_stations(data, conn)"
   ]
  },
  {
   "cell_type": "code",
   "execution_count": 83,
   "id": "513c8720",
   "metadata": {},
   "outputs": [
    {
     "data": {
      "text/plain": [
       "'Error'"
      ]
     },
     "execution_count": 83,
     "metadata": {},
     "output_type": "execute_result"
    }
   ],
   "source": [
    "result"
   ]
  },
  {
   "cell_type": "markdown",
   "id": "d9beafb2-ee93-4532-a0f9-b10ac56a6835",
   "metadata": {},
   "source": [
    "**TASK: Create a Function to insert data for `trips` table**"
   ]
  },
  {
   "cell_type": "code",
   "execution_count": 84,
   "id": "aac0820e-2594-49c5-a98f-e72e8917da48",
   "metadata": {},
   "outputs": [],
   "source": [
    "# Your code here\n",
    "def insert_into_trips(data, conn):\n",
    "    query = f\"\"\"INSERT INTO trips values {data}\"\"\"\n",
    "    try: \n",
    "        conn.execute(query)\n",
    "    except:\n",
    "        return 'Error'\n",
    "    conn.commit()\n",
    "    return 'OK'"
   ]
  },
  {
   "cell_type": "code",
   "execution_count": 85,
   "id": "f969c861",
   "metadata": {},
   "outputs": [],
   "source": [
    "conn = make_connection()\n",
    "data = tuple(trips.iloc[0].fillna('').values) # Randomly select a data\n",
    "result = insert_into_trips(data, conn)"
   ]
  },
  {
   "cell_type": "markdown",
   "id": "72c93934-9c7e-495e-8613-9a5e73833577",
   "metadata": {},
   "source": [
    "## GET: Read specific data"
   ]
  },
  {
   "cell_type": "markdown",
   "id": "f2486c61-a982-4d9f-831f-1fa77a21a417",
   "metadata": {},
   "source": [
    "Generally, GET method will ask for specific the data in the database, alongside with additional information we might send. For example: \n",
    "- Get number of unique user\n",
    "- Get full trips information for specific user id\n",
    "- Get average trips duration and length for specific user id\n",
    "\n",
    "In this example, we will implement the most basic GET method, that is to get Station information in the table based on specific Station ID"
   ]
  },
  {
   "cell_type": "code",
   "execution_count": 86,
   "id": "09b1e8f2-fc04-4c06-a23e-d31a93f65ccd",
   "metadata": {},
   "outputs": [],
   "source": [
    "# Get Specific Station ID  Query\n",
    "station_id = 2500\n",
    "query_station_id = f\"\"\"\n",
    "SELECT * FROM stations\n",
    "WHERE station_id = {station_id}\n",
    "\"\"\"\n",
    "\n",
    "# Get all station ID Query\n",
    "query_station_all = \"SELECT * FROM stations\""
   ]
  },
  {
   "cell_type": "code",
   "execution_count": 87,
   "id": "c4e317b7",
   "metadata": {},
   "outputs": [
    {
     "name": "stdout",
     "output_type": "stream",
     "text": [
      "\n",
      "SELECT * FROM stations\n",
      "WHERE station_id = 2500\n",
      "\n"
     ]
    }
   ],
   "source": [
    "print(query_station_id)"
   ]
  },
  {
   "cell_type": "code",
   "execution_count": 88,
   "id": "2b014e89-f857-4e18-9607-2b7d6139a1de",
   "metadata": {},
   "outputs": [],
   "source": [
    "# Run the query and get the result\n",
    "result = pd.read_sql_query(query_station_id, conn)"
   ]
  },
  {
   "cell_type": "code",
   "execution_count": 89,
   "id": "5c7a54ab-e979-4c1c-b27c-60e501cb3733",
   "metadata": {},
   "outputs": [
    {
     "data": {
      "text/html": [
       "<div>\n",
       "<style scoped>\n",
       "    .dataframe tbody tr th:only-of-type {\n",
       "        vertical-align: middle;\n",
       "    }\n",
       "\n",
       "    .dataframe tbody tr th {\n",
       "        vertical-align: top;\n",
       "    }\n",
       "\n",
       "    .dataframe thead th {\n",
       "        text-align: right;\n",
       "    }\n",
       "</style>\n",
       "<table border=\"1\" class=\"dataframe\">\n",
       "  <thead>\n",
       "    <tr style=\"text-align: right;\">\n",
       "      <th></th>\n",
       "      <th>station_id</th>\n",
       "      <th>name</th>\n",
       "      <th>status</th>\n",
       "      <th>address</th>\n",
       "      <th>alternate_name</th>\n",
       "      <th>city_asset_number</th>\n",
       "      <th>property_type</th>\n",
       "      <th>number_of_docks</th>\n",
       "      <th>power_type</th>\n",
       "      <th>footprint_length</th>\n",
       "      <th>footprint_width</th>\n",
       "      <th>notes</th>\n",
       "      <th>council_district</th>\n",
       "      <th>modified_date</th>\n",
       "    </tr>\n",
       "  </thead>\n",
       "  <tbody>\n",
       "    <tr>\n",
       "      <th>0</th>\n",
       "      <td>2500</td>\n",
       "      <td>Republic Square</td>\n",
       "      <td>closed</td>\n",
       "      <td>425 W 4th Street</td>\n",
       "      <td></td>\n",
       "      <td></td>\n",
       "      <td></td>\n",
       "      <td></td>\n",
       "      <td></td>\n",
       "      <td></td>\n",
       "      <td></td>\n",
       "      <td></td>\n",
       "      <td>9</td>\n",
       "      <td>2021-01-04T12:00:00Z</td>\n",
       "    </tr>\n",
       "  </tbody>\n",
       "</table>\n",
       "</div>"
      ],
      "text/plain": [
       "   station_id             name  status           address alternate_name   \n",
       "0        2500  Republic Square  closed  425 W 4th Street                 \\\n",
       "\n",
       "  city_asset_number property_type number_of_docks power_type footprint_length   \n",
       "0                                                                              \\\n",
       "\n",
       "  footprint_width notes  council_district         modified_date  \n",
       "0                                       9  2021-01-04T12:00:00Z  "
      ]
     },
     "execution_count": 89,
     "metadata": {},
     "output_type": "execute_result"
    }
   ],
   "source": [
    "result"
   ]
  },
  {
   "cell_type": "markdown",
   "id": "4e589298-cbb0-4720-8275-7f09c18a9cca",
   "metadata": {},
   "source": [
    "Just like the previous section, create a function to read specific station"
   ]
  },
  {
   "cell_type": "code",
   "execution_count": 90,
   "id": "697114ad-0305-4d98-8cad-fa384be07e6b",
   "metadata": {},
   "outputs": [],
   "source": [
    "def get_station_id(station_id, conn):\n",
    "    query = f\"\"\"SELECT * FROM stations WHERE station_id = {station_id}\"\"\"\n",
    "    result = pd.read_sql_query(query, conn)\n",
    "    return result \n",
    "\n",
    "def get_all_stations(conn):\n",
    "    query = f\"\"\"SELECT * FROM stations\"\"\"\n",
    "    result = pd.read_sql_query(query, conn)\n",
    "    return result"
   ]
  },
  {
   "cell_type": "code",
   "execution_count": 91,
   "id": "f728df15",
   "metadata": {},
   "outputs": [
    {
     "data": {
      "text/html": [
       "<div>\n",
       "<style scoped>\n",
       "    .dataframe tbody tr th:only-of-type {\n",
       "        vertical-align: middle;\n",
       "    }\n",
       "\n",
       "    .dataframe tbody tr th {\n",
       "        vertical-align: top;\n",
       "    }\n",
       "\n",
       "    .dataframe thead th {\n",
       "        text-align: right;\n",
       "    }\n",
       "</style>\n",
       "<table border=\"1\" class=\"dataframe\">\n",
       "  <thead>\n",
       "    <tr style=\"text-align: right;\">\n",
       "      <th></th>\n",
       "      <th>station_id</th>\n",
       "      <th>name</th>\n",
       "      <th>status</th>\n",
       "      <th>address</th>\n",
       "      <th>alternate_name</th>\n",
       "      <th>city_asset_number</th>\n",
       "      <th>property_type</th>\n",
       "      <th>number_of_docks</th>\n",
       "      <th>power_type</th>\n",
       "      <th>footprint_length</th>\n",
       "      <th>footprint_width</th>\n",
       "      <th>notes</th>\n",
       "      <th>council_district</th>\n",
       "      <th>modified_date</th>\n",
       "    </tr>\n",
       "  </thead>\n",
       "  <tbody>\n",
       "    <tr>\n",
       "      <th>0</th>\n",
       "      <td>2500</td>\n",
       "      <td>Republic Square</td>\n",
       "      <td>closed</td>\n",
       "      <td>425 W 4th Street</td>\n",
       "      <td></td>\n",
       "      <td></td>\n",
       "      <td></td>\n",
       "      <td></td>\n",
       "      <td></td>\n",
       "      <td></td>\n",
       "      <td></td>\n",
       "      <td></td>\n",
       "      <td>9</td>\n",
       "      <td>2021-01-04T12:00:00Z</td>\n",
       "    </tr>\n",
       "  </tbody>\n",
       "</table>\n",
       "</div>"
      ],
      "text/plain": [
       "   station_id             name  status           address alternate_name   \n",
       "0        2500  Republic Square  closed  425 W 4th Street                 \\\n",
       "\n",
       "  city_asset_number property_type number_of_docks power_type footprint_length   \n",
       "0                                                                              \\\n",
       "\n",
       "  footprint_width notes  council_district         modified_date  \n",
       "0                                       9  2021-01-04T12:00:00Z  "
      ]
     },
     "execution_count": 91,
     "metadata": {},
     "output_type": "execute_result"
    }
   ],
   "source": [
    "#coba pakai fungsi getnya buat ngambil dataframe yang diinginkan\n",
    "get_station_id(2500, conn)\n",
    "get_all_stations(conn).head(1)"
   ]
  },
  {
   "cell_type": "markdown",
   "id": "d4d9eae2-06d8-4fed-a14b-adb32a3fbe1d",
   "metadata": {},
   "source": [
    "**TASK: Create a Function to read data from `trips` table**"
   ]
  },
  {
   "cell_type": "code",
   "execution_count": 92,
   "id": "543a6298-aace-41f2-bc0f-9ae0277f5428",
   "metadata": {},
   "outputs": [],
   "source": [
    "# Your code here\n",
    "def get_trip_id(trip_id, conn):\n",
    "    query = f\"\"\"SELECT * FROM trips WHERE id = {trip_id}\"\"\"\n",
    "    result = pd.read_sql_query(query, conn)\n",
    "    return result \n",
    "    \n",
    "def get_all_trips(conn):\n",
    "    query = f\"\"\"SELECT * FROM trips\"\"\"\n",
    "    result = pd.read_sql_query(query, conn)\n",
    "    return result "
   ]
  },
  {
   "cell_type": "code",
   "execution_count": 93,
   "id": "c115e2d9",
   "metadata": {},
   "outputs": [
    {
     "data": {
      "text/html": [
       "<div>\n",
       "<style scoped>\n",
       "    .dataframe tbody tr th:only-of-type {\n",
       "        vertical-align: middle;\n",
       "    }\n",
       "\n",
       "    .dataframe tbody tr th {\n",
       "        vertical-align: top;\n",
       "    }\n",
       "\n",
       "    .dataframe thead th {\n",
       "        text-align: right;\n",
       "    }\n",
       "</style>\n",
       "<table border=\"1\" class=\"dataframe\">\n",
       "  <thead>\n",
       "    <tr style=\"text-align: right;\">\n",
       "      <th></th>\n",
       "      <th>id</th>\n",
       "      <th>subscriber_type</th>\n",
       "      <th>bikeid</th>\n",
       "      <th>start_time</th>\n",
       "      <th>start_station_id</th>\n",
       "      <th>start_station_name</th>\n",
       "      <th>end_station_id</th>\n",
       "      <th>end_station_name</th>\n",
       "      <th>duration_minutes</th>\n",
       "    </tr>\n",
       "  </thead>\n",
       "  <tbody>\n",
       "    <tr>\n",
       "      <th>0</th>\n",
       "      <td>9900289692</td>\n",
       "      <td>Walk Up</td>\n",
       "      <td>248</td>\n",
       "      <td>2015-10-02 21:12:01 UTC</td>\n",
       "      <td>1006</td>\n",
       "      <td>Zilker Park West</td>\n",
       "      <td>1008</td>\n",
       "      <td>Nueces @ 3rd</td>\n",
       "      <td>39</td>\n",
       "    </tr>\n",
       "    <tr>\n",
       "      <th>1</th>\n",
       "      <td>9900285987</td>\n",
       "      <td>24-Hour Kiosk (Austin B-cycle)</td>\n",
       "      <td>446</td>\n",
       "      <td>2014-10-26 15:12:00 UTC</td>\n",
       "      <td>2712</td>\n",
       "      <td>Toomey Rd @ South Lamar</td>\n",
       "      <td>2712</td>\n",
       "      <td>Toomey Rd @ South Lamar</td>\n",
       "      <td>31</td>\n",
       "    </tr>\n",
       "    <tr>\n",
       "      <th>2</th>\n",
       "      <td>9900285989</td>\n",
       "      <td>24-Hour Kiosk (Austin B-cycle)</td>\n",
       "      <td>203</td>\n",
       "      <td>2014-10-26 15:12:00 UTC</td>\n",
       "      <td>2712</td>\n",
       "      <td>Toomey Rd @ South Lamar</td>\n",
       "      <td>2712</td>\n",
       "      <td>Toomey Rd @ South Lamar</td>\n",
       "      <td>31</td>\n",
       "    </tr>\n",
       "    <tr>\n",
       "      <th>3</th>\n",
       "      <td>9900285991</td>\n",
       "      <td>24-Hour Kiosk (Austin B-cycle)</td>\n",
       "      <td>101</td>\n",
       "      <td>2014-10-26 15:12:00 UTC</td>\n",
       "      <td>2712</td>\n",
       "      <td>Toomey Rd @ South Lamar</td>\n",
       "      <td>2712</td>\n",
       "      <td>Toomey Rd @ South Lamar</td>\n",
       "      <td>30</td>\n",
       "    </tr>\n",
       "    <tr>\n",
       "      <th>4</th>\n",
       "      <td>9900286140</td>\n",
       "      <td>24-Hour Kiosk (Austin B-cycle)</td>\n",
       "      <td>242</td>\n",
       "      <td>2014-10-26 18:12:00 UTC</td>\n",
       "      <td>2541</td>\n",
       "      <td>State Capitol @ 14th &amp; Colorado</td>\n",
       "      <td>2541</td>\n",
       "      <td>State Capitol @ 14th &amp; Colorado</td>\n",
       "      <td>19</td>\n",
       "    </tr>\n",
       "  </tbody>\n",
       "</table>\n",
       "</div>"
      ],
      "text/plain": [
       "           id                 subscriber_type bikeid               start_time   \n",
       "0  9900289692                         Walk Up    248  2015-10-02 21:12:01 UTC  \\\n",
       "1  9900285987  24-Hour Kiosk (Austin B-cycle)    446  2014-10-26 15:12:00 UTC   \n",
       "2  9900285989  24-Hour Kiosk (Austin B-cycle)    203  2014-10-26 15:12:00 UTC   \n",
       "3  9900285991  24-Hour Kiosk (Austin B-cycle)    101  2014-10-26 15:12:00 UTC   \n",
       "4  9900286140  24-Hour Kiosk (Austin B-cycle)    242  2014-10-26 18:12:00 UTC   \n",
       "\n",
       "  start_station_id               start_station_name end_station_id   \n",
       "0             1006                 Zilker Park West           1008  \\\n",
       "1             2712          Toomey Rd @ South Lamar           2712   \n",
       "2             2712          Toomey Rd @ South Lamar           2712   \n",
       "3             2712          Toomey Rd @ South Lamar           2712   \n",
       "4             2541  State Capitol @ 14th & Colorado           2541   \n",
       "\n",
       "                  end_station_name  duration_minutes  \n",
       "0                     Nueces @ 3rd                39  \n",
       "1          Toomey Rd @ South Lamar                31  \n",
       "2          Toomey Rd @ South Lamar                31  \n",
       "3          Toomey Rd @ South Lamar                30  \n",
       "4  State Capitol @ 14th & Colorado                19  "
      ]
     },
     "execution_count": 93,
     "metadata": {},
     "output_type": "execute_result"
    }
   ],
   "source": [
    "get_trip_id(9900333979, conn)\n",
    "get_all_trips(conn).head()"
   ]
  },
  {
   "cell_type": "markdown",
   "id": "b024e79d-c7db-43ca-a226-45e934c5cdc0",
   "metadata": {},
   "source": [
    "# Flask App"
   ]
  },
  {
   "cell_type": "markdown",
   "id": "d167587d-7e47-443c-b237-07f4201a6848",
   "metadata": {},
   "source": [
    "Flask is a micro-framework for python. Generally we can build any application out of it. To start with, let's make our first empy flask app. \n",
    "Creata a new file `app.py`, then copy-paste the following codes into it and save it. \n",
    "\n",
    "*Notes: it's recomended to use vscode as editor since it support vast linting supports, including python which we find really helpful in coding*"
   ]
  },
  {
   "cell_type": "markdown",
   "id": "fae662bf-4667-4b4c-a5a8-e8118d45e151",
   "metadata": {},
   "source": [
    "```python\n",
    "from flask import Flask, request\n",
    "app = Flask(__name__) \n",
    "\n",
    "if __name__ == '__main__':\n",
    "    app.run(debug=True, port=5000)\n",
    "```"
   ]
  },
  {
   "cell_type": "markdown",
   "id": "20a3e191-2d1d-42f2-b620-ab8d4535fe5f",
   "metadata": {},
   "source": [
    "To run the app, you can open your terminal, go to the specific folder and run `python app.py` using your designated virtual environment"
   ]
  },
  {
   "cell_type": "markdown",
   "id": "b7bd4362-55ad-48e7-9ed5-a9efb269d191",
   "metadata": {},
   "source": [
    "## Routes and Endpoints"
   ]
  },
  {
   "cell_type": "markdown",
   "id": "87f78576-5db9-40cc-9ccf-5f865caf0689",
   "metadata": {},
   "source": [
    "### Implement endpoints"
   ]
  },
  {
   "cell_type": "markdown",
   "id": "e52ff12b-2613-4a15-ad98-5cf8881eb5ed",
   "metadata": {},
   "source": [
    "If you succesfully run the previous app and access the localhost:5000 , you might get an 404 not found error. This is because we **have not** define yet what will happen if people accessing our root path of the app (localhost:5000/)\n",
    "\n",
    "Add the following example of route or endpoint into your `app.py` just before the `if __name__ === '__main__':` line, and reload the page to see if it works"
   ]
  },
  {
   "cell_type": "markdown",
   "id": "6870c3db-a88d-4ae6-a791-04f9e212f3f8",
   "metadata": {},
   "source": [
    "```python \n",
    "@app.route('/')\n",
    "def home():\n",
    "    return 'Hello World'\n",
    "```"
   ]
  },
  {
   "cell_type": "markdown",
   "id": "f23f1514-2ea7-4699-9b3c-b8ba2ee608eb",
   "metadata": {},
   "source": [
    "Above endpoints will runs the `home` function anytime user access the `/` page.\n",
    "\n",
    "Since we are going to handle all the requests through this app, the very next step is to implement our functionalites. Let's start with implementing the functionality to read all station data\n",
    "\n",
    "we will add the `get_all_stations()` functions into our app, create a `@app.route('/stations/')` endpoint and call the function in it. The code should looks like:\n",
    "\n",
    "```python \n",
    "@app.route('/stations/')\n",
    "def route_all_stations():\n",
    "    conn = make_connection()\n",
    "    stations = get_all_stations(conn)\n",
    "    return stations.to_json()\n",
    "    \n",
    "def get_all_stations(conn):\n",
    "    query = f\"\"\"SELECT * FROM stations\"\"\"\n",
    "    result = pd.read_sql_query(query, conn)\n",
    "    return result\n",
    "```"
   ]
  },
  {
   "cell_type": "markdown",
   "id": "11a81990-4add-4a66-8771-4832866f938b",
   "metadata": {},
   "source": [
    "However, adding just above codes is not enough. If you see, there is a dependency inside the function, which is `make_connection()` function. Other than that, we will be using all the required libraries. \n",
    "\n",
    "Hence, we can complete the code by : \n",
    "- import the required libraries at the top of the `app.py` file\n",
    "- write the `make_connection()` function before any routes declarations"
   ]
  },
  {
   "cell_type": "markdown",
   "id": "536b16f2-1cc4-4605-88ae-feee9cc6eec7",
   "metadata": {},
   "source": [
    "Once it's completed, you should see no errors in the vscode screen, and your endpoint should work just fine and returns all the stations. It's now your task to impelement the `get_all_trips` into the app "
   ]
  },
  {
   "cell_type": "markdown",
   "id": "c8eec277-fdd5-4367-83e5-f6916794b186",
   "metadata": {},
   "source": [
    "**TASK: Implement `get_all_trips()` method into the app** \\\n",
    "Place it under `@app.route('/trips/')` endpoint"
   ]
  },
  {
   "cell_type": "code",
   "execution_count": 169,
   "id": "5ee8aed5",
   "metadata": {},
   "outputs": [
    {
     "data": {
      "text/plain": [
       "'{\"station_id\":{\"0\":2500,\"1\":3464,\"2\":2536,\"3\":2502,\"4\":2538,\"5\":2541,\"6\":2545,\"7\":2546,\"8\":2550,\"9\":2564,\"10\":2576,\"11\":2712,\"12\":3381,\"13\":1001,\"14\":1002,\"15\":1003,\"16\":1004,\"17\":1005,\"18\":1006,\"19\":1007,\"20\":1008,\"21\":3687,\"22\":3684,\"23\":2572,\"24\":2575,\"25\":2574,\"26\":2707,\"27\":4699,\"28\":2570,\"29\":2496,\"30\":3294,\"31\":2497,\"32\":4047,\"33\":2503,\"34\":2711,\"35\":2565,\"36\":3619,\"37\":3798,\"38\":3799,\"39\":3291,\"40\":2539,\"41\":2571,\"42\":2542,\"43\":2549,\"44\":2561,\"45\":3455,\"46\":3513,\"47\":3790,\"48\":4060,\"49\":2567,\"50\":2498,\"51\":2566,\"52\":2499,\"53\":3621,\"54\":3390,\"55\":2540,\"56\":2547,\"57\":2562,\"58\":2552,\"59\":4879,\"60\":3635,\"61\":3685,\"62\":3793,\"63\":4050,\"64\":4051,\"65\":4057,\"66\":2548,\"67\":2494,\"68\":2495,\"69\":2501,\"70\":2563,\"71\":3293,\"72\":4052,\"73\":4054,\"74\":4055,\"75\":4058,\"76\":4059,\"77\":4061,\"78\":4062,\"79\":3292,\"80\":2544,\"81\":2568,\"82\":2569,\"83\":3660,\"84\":2822,\"85\":2823,\"86\":2504,\"87\":2537,\"88\":3686,\"89\":3791,\"90\":3792,\"91\":3838,\"92\":3841,\"93\":4048,\"94\":3377,\"95\":3794,\"96\":3795,\"97\":3797},\"name\":{\"0\":\"Republic Square\",\"1\":\"Pease Park\",\"2\":\"Waller & 6th St.\",\"3\":\"Barton Springs & Riverside\",\"4\":\"Bullock Museum @ Congress & MLK\",\"5\":\"State Capitol @ 14th & Colorado\",\"6\":\"ACC - Rio Grande & 12th\",\"7\":\"ACC - West & 12th Street\",\"8\":\"Republic Square @ Guadalupe & 4th St.\",\"9\":\"5th & San Marcos\",\"10\":\"Rainey @ River St\",\"11\":\"Toomey Rd @ South Lamar\",\"12\":\"East 7th & Pleasant Valley\",\"13\":\"OFFICE\\\\/Main\\\\/Shop\\\\/Repair\",\"14\":\"6th & Navasota St.\",\"15\":\"8th & Guadalupe\",\"16\":\"Red River & LBJ Library\",\"17\":\"State Parking Garage @ Brazos & 18th\",\"18\":\"Zilker Park West\",\"19\":\"Lavaca & 6th\",\"20\":\"Nueces @ 3rd\",\"21\":\"Boardwalk West\",\"22\":\"Congress & Cesar Chavez\",\"23\":\"Barton Springs Pool\",\"24\":\"Riverside @ S. Lamar\",\"25\":\"Zilker Park\",\"26\":\"Rainey St @ Cummings\",\"27\":\"East 5th\\\\/Shady @ Eastside Bus Plaza\",\"28\":\"South Congress & Academy\",\"29\":\"8th & Congress\",\"30\":\"Lavaca & 6th\",\"31\":\"Capitol Station \\\\/ Congress & 11th\",\"32\":\"8th & Lavaca\",\"33\":\"South Congress & James\",\"34\":\"Barton Springs @ Kinney Ave\",\"35\":\"Trinity & 6th Street\",\"36\":\"6th & Congress\",\"37\":\"21st & Speedway @PCL\",\"38\":\"23rd & San Jacinto @ DKR Stadium\",\"39\":\"11th & San Jacinto\",\"40\":\"Convention Center \\\\/ 3rd & Trinity\",\"41\":\"Red River & 8th Street\",\"42\":\"Plaza Saltillo\",\"43\":\"Long Center @ South 1st & Riverside\",\"44\":\"State Capitol Visitors Garage @ San Jacinto & 12th\",\"45\":\"Republic Square @ 5th & Guadalupe\",\"46\":\"South Congress & Barton Springs at the Austin American-Statesman\",\"47\":\"Lake Austin Blvd @ Deep Eddy\",\"48\":\"Red River\\\\/Cesar Chavez @ The Fairmont\",\"49\":\"Palmer Auditorium\",\"50\":\"Convention Center \\\\/ 4th St. @ MetroRail\",\"51\":\"Pfluger Bridge @ W 2nd Street\",\"52\":\"City Hall \\\\/ Lavaca & 2nd\",\"53\":\"Nueces & 3rd\",\"54\":\"Brazos & 6th\",\"55\":\"17th & Guadalupe\",\"56\":\"Guadalupe & 21st\",\"57\":\"San Jacinto & 8th Street\",\"58\":\"3rd & West\",\"59\":\"16th\\\\/San Antonio\",\"60\":\"13th & San Antonio\",\"61\":\"Henderson & 9th\",\"62\":\"Rio Grande & 28th\",\"63\":\"5th & Campbell\",\"64\":\"10th & Red River\",\"65\":\"6th & Chalmers\",\"66\":\"UT West Mall @ Guadalupe\",\"67\":\"2nd & Congress\",\"68\":\"4th & Congress\",\"69\":\"5th & Bowie\",\"70\":\"Davis at Rainey Street\",\"71\":\"East 2nd & Pedernales\",\"72\":\"Rosewood & Angelina\",\"73\":\"Rosewood & Chicon\",\"74\":\"11th & Salina\",\"75\":\"Hollow Creek & Barton Hills\",\"76\":\"Nash Hernandez @ RBJ South\",\"77\":\"Lakeshore @ Austin Hostel\",\"78\":\"Lakeshore & Pleasant Valley\",\"79\":\"East 4th & Chicon\",\"80\":\"East 6th & Pedernales St.\",\"81\":\"East 11th St. at Victory Grill\",\"82\":\"East 11th St. & San Marcos\",\"83\":\"Medina & East 6th\",\"84\":\"East 6th at Robert Martinez\",\"85\":\"Capital Metro HQ - East 5th at Broadway\",\"86\":\"South Congress & Elizabeth\",\"87\":\"West & 6th St.\",\"88\":\"Sterzing at Barton Springs\",\"89\":\"Lake Austin & Enfield\",\"90\":\"22nd & Pearl\",\"91\":\"Nueces & 26th\",\"92\":\"23rd & Rio Grande\",\"93\":\"South Congress @ Bouldin Creek\",\"94\":\"MoPac Pedestrian Bridge @ Veterans Drive\",\"95\":\"Dean Keeton & Speedway\",\"96\":\"Dean Keeton & Whitis\",\"97\":\"21st & University\"},\"status\":{\"0\":\"closed\",\"1\":\"closed\",\"2\":\"closed\",\"3\":\"closed\",\"4\":\"closed\",\"5\":\"closed\",\"6\":\"closed\",\"7\":\"closed\",\"8\":\"closed\",\"9\":\"closed\",\"10\":\"closed\",\"11\":\"closed\",\"12\":\"closed\",\"13\":\"active\",\"14\":\"closed\",\"15\":\"closed\",\"16\":\"closed\",\"17\":\"closed\",\"18\":\"closed\",\"19\":\"closed\",\"20\":\"closed\",\"21\":\"active\",\"22\":\"active\",\"23\":\"active\",\"24\":\"active\",\"25\":\"active\",\"26\":\"active\",\"27\":\"active\",\"28\":\"active\",\"29\":\"active\",\"30\":\"active\",\"31\":\"active\",\"32\":\"active\",\"33\":\"active\",\"34\":\"active\",\"35\":\"active\",\"36\":\"active\",\"37\":\"active\",\"38\":\"active\",\"39\":\"active\",\"40\":\"active\",\"41\":\"active\",\"42\":\"active\",\"43\":\"active\",\"44\":\"active\",\"45\":\"active\",\"46\":\"active\",\"47\":\"active\",\"48\":\"active\",\"49\":\"active\",\"50\":\"active\",\"51\":\"active\",\"52\":\"active\",\"53\":\"active\",\"54\":\"active\",\"55\":\"closed\",\"56\":\"active\",\"57\":\"active\",\"58\":\"active\",\"59\":\"active\",\"60\":\"closed\",\"61\":\"active\",\"62\":\"active\",\"63\":\"active\",\"64\":\"active\",\"65\":\"active\",\"66\":\"active\",\"67\":\"active\",\"68\":\"active\",\"69\":\"active\",\"70\":\"active\",\"71\":\"active\",\"72\":\"active\",\"73\":\"active\",\"74\":\"active\",\"75\":\"active\",\"76\":\"active\",\"77\":\"active\",\"78\":\"active\",\"79\":\"active\",\"80\":\"active\",\"81\":\"active\",\"82\":\"active\",\"83\":\"active\",\"84\":\"active\",\"85\":\"active\",\"86\":\"active\",\"87\":\"active\",\"88\":\"active\",\"89\":\"active\",\"90\":\"active\",\"91\":\"active\",\"92\":\"active\",\"93\":\"active\",\"94\":\"active\",\"95\":\"active\",\"96\":\"active\",\"97\":\"active\"},\"address\":{\"0\":\"425 W 4th Street\",\"1\":\"1155 Kingsbury St\",\"2\":\"602 Waller St.\",\"3\":\"400 Barton Springs Rd.\",\"4\":\"1881 Congress Ave.\",\"5\":\"206 W. 14th St.\",\"6\":\"700 W. 12th St.\",\"7\":\"1231 West Ave.\",\"8\":\"Presented by Austin Ventures\",\"9\":\"991 East 5th\",\"10\":\"64 Rainey St\",\"11\":\"1301 Toomey Road\",\"12\":\"2772 E 7th\",\"13\":\"1000 Brazos\",\"14\":\"1308 W. 6th St.\",\"15\":\"800 Guadalupe St.\",\"16\":\"2322 Red River Street\",\"17\":\"1789 Brazos St.\",\"18\":\"Barton Springs Rd\",\"19\":\"601 Lavaca St.\",\"20\":\"311 Nueces\",\"21\":\"300 E. Riverside Dr.\",\"22\":\"124 W Cesar Chavez St\",\"23\":\"2200 William Barton Dr.\",\"24\":\"Presented by Austin Parks Foundation\",\"25\":\"Barton Springs Rd\",\"26\":\"1 Rainey St\",\"27\":\"5104 East 5th. Street\",\"28\":\"1199 S. Congress Ave.\",\"29\":\"111 E. 8th St.\",\"30\":\"619 Guadalupe St.\",\"31\":\"1090 Congress Ave.\",\"32\":\"750 Lavaca Street\",\"33\":\"Presented by The Austin Chronicle\",\"34\":\"1530 Barton Springs Road\",\"35\":\"606 Trinity Street\",\"36\":\"600 Congress Ave.\",\"37\":\"E. 21st St.\",\"38\":\"E. 23rd St.\",\"39\":\"310 E. 11th St.\",\"40\":\"212 Trinity\",\"41\":\"761 Red River St.\",\"42\":\"1501 E. 5th St.\",\"43\":\"Presented by Austin Energy\",\"44\":\"1201 San Jacinto Blvd.\",\"45\":\"Federal Courthouse Plaza\",\"46\":\"305 S. Congress Ave.\",\"47\":\"2401 Lake Austin Blvd\",\"48\":\"101 Red River St.\",\"49\":\"900 Barton Springs Rd.\",\"50\":\"499 E. 4th St\",\"51\":\"Presented by Austin Parks Foundation\",\"52\":\"Presented by Graves Dougherty Hearon & Moody\",\"53\":\"311 Nueces St.\",\"54\":\"585 Brazos St.\",\"55\":\"411 W. 17th St.\",\"56\":\"2100 Guadalupe St.\",\"57\":\"782 San Jacinto Blvd.\",\"58\":\"652 W. 3rd St\",\"59\":\"1601 San Antonio Street\",\"60\":\"1285 San Antonio St.\",\"61\":\"672 Henderson Street\",\"62\":\"2717 Rio Grande St.\",\"63\":\"1611 W 5th St\",\"64\":\"699 East 10th Street\",\"65\":\"639 Chalmers Avenue\",\"66\":\"2242 Guadalupe St.\",\"67\":\"151 E. 2nd St\",\"68\":\"120 W. 4th St.\",\"69\":\"Presented by Whole Foods Market\",\"70\":\"698 Davis St.\",\"71\":\"2414 E 2nd St\",\"72\":\"1153 Angelina Street\",\"73\":\"1909 Rosewood Avenue\",\"74\":\"1705 E 11th St\",\"75\":\"1106 Hollow Creek Dr\",\"76\":\"1316 Festival Beach Rd\",\"77\":\"2200 S Lakeshore Blvd\",\"78\":\"2525 South Lakeshore Boulevard\",\"79\":\"1819 East 4th St.\",\"80\":\"2498 E. 6th St.\",\"81\":\"1106 E. 11th St.\",\"82\":\"1001 E. 11th St.\",\"83\":\"590 Medina St.\",\"84\":\"2120 East 6th St\",\"85\":\"2910 E 5th St\",\"86\":\"101 Elizabeth St. W\",\"87\":\"603 West Ave.\",\"88\":\"1825 Barton Springs Rd\",\"89\":\"3825 Lake Austin Blvd\",\"90\":\"900 W. 22nd\",\"91\":\"600 W. 26th St.\",\"92\":\"2308 Rio Grande St.\",\"93\":\"799 South Congress Avenue\",\"94\":\"2105 Veterans Dr.\",\"95\":\"180 E. Dean Keeton St.\",\"96\":\"300 W. Dean Keeton St.\",\"97\":\"2007 University Ave.\"},\"alternate_name\":{\"0\":\"\",\"1\":\"\",\"2\":\"\",\"3\":\"\",\"4\":\"\",\"5\":\"\",\"6\":\"\",\"7\":\"\",\"8\":\"\",\"9\":\"\",\"10\":\"\",\"11\":\"\",\"12\":\"\",\"13\":\"\",\"14\":\"\",\"15\":\"\",\"16\":\"\",\"17\":\"\",\"18\":\"\",\"19\":\"\",\"20\":\"\",\"21\":\"\",\"22\":\"\",\"23\":\"\",\"24\":\"\",\"25\":\"Zilker Park at Barton Springs and William Burton Drive\",\"26\":\"\",\"27\":\"\",\"28\":\"\",\"29\":\"\",\"30\":\"\",\"31\":\"\",\"32\":\"\",\"33\":\"\",\"34\":\"\",\"35\":\"\",\"36\":\"Congress & 6th Street\",\"37\":\"\",\"38\":\"\",\"39\":\"\",\"40\":\"\",\"41\":\"\",\"42\":\"\",\"43\":\"\",\"44\":\"\",\"45\":\"\",\"46\":\"\",\"47\":\"\",\"48\":\"\",\"49\":\"\",\"50\":\"\",\"51\":\"\",\"52\":\"\",\"53\":\"\",\"54\":\"\",\"55\":\"\",\"56\":\"\",\"57\":\"\",\"58\":\"\",\"59\":\"\",\"60\":\"\",\"61\":\"\",\"62\":\"\",\"63\":\"\",\"64\":\"\",\"65\":\"\",\"66\":\"\",\"67\":\"\",\"68\":\"\",\"69\":\"\",\"70\":\"\",\"71\":\"\",\"72\":\"\",\"73\":\"\",\"74\":\"\",\"75\":\"\",\"76\":\"\",\"77\":\"\",\"78\":\"\",\"79\":\"\",\"80\":\"\",\"81\":\"\",\"82\":\"\",\"83\":\"\",\"84\":\"\",\"85\":\"\",\"86\":\"\",\"87\":\"\",\"88\":\"\",\"89\":\"\",\"90\":\"\",\"91\":\"\",\"92\":\"\",\"93\":\"\",\"94\":\"\",\"95\":\"\",\"96\":\"\",\"97\":\"\"},\"city_asset_number\":{\"0\":\"\",\"1\":\"\",\"2\":\"\",\"3\":\"\",\"4\":\"\",\"5\":\"\",\"6\":\"\",\"7\":\"\",\"8\":\"\",\"9\":\"\",\"10\":\"\",\"11\":\"\",\"12\":\"\",\"13\":\"\",\"14\":\"\",\"15\":\"\",\"16\":\"\",\"17\":\"\",\"18\":\"\",\"19\":\"\",\"20\":\"\",\"21\":16683,\"22\":32594,\"23\":16758,\"24\":16736,\"25\":16759,\"26\":16597,\"27\":32522,\"28\":16752,\"29\":16725,\"30\":32515,\"31\":16735,\"32\":32710,\"33\":16730,\"34\":16599,\"35\":16763,\"36\":16743,\"37\":32675,\"38\":32676,\"39\":32503,\"40\":16747,\"41\":16760,\"42\":16746,\"43\":16750,\"44\":16764,\"45\":16741,\"46\":16745,\"47\":32673,\"48\":32691,\"49\":16753,\"50\":16734,\"51\":16762,\"52\":16732,\"53\":16742,\"54\":16754,\"55\":16739,\"56\":16749,\"57\":16755,\"58\":16727,\"59\":16739,\"60\":32522,\"61\":32593,\"62\":32668,\"63\":32745,\"64\":32686,\"65\":32690,\"66\":16748,\"67\":16733,\"68\":16726,\"69\":16728,\"70\":16751,\"71\":16729,\"72\":32687,\"73\":32688,\"74\":32689,\"75\":32685,\"76\":32693,\"77\":32692,\"78\":32711,\"79\":32516,\"80\":16738,\"81\":16757,\"82\":16756,\"83\":16761,\"84\":16674,\"85\":16684,\"86\":16731,\"87\":16737,\"88\":32592,\"89\":32672,\"90\":32669,\"91\":16744,\"92\":16740,\"93\":32746,\"94\":16598,\"95\":32670,\"96\":32671,\"97\":32674},\"property_type\":{\"0\":\"\",\"1\":\"\",\"2\":\"\",\"3\":\" \",\"4\":\"\",\"5\":\"\",\"6\":\"\",\"7\":\"\",\"8\":\"\",\"9\":\"\",\"10\":\"\",\"11\":\"\",\"12\":\"\",\"13\":\"\",\"14\":\"\",\"15\":\"\",\"16\":\"\",\"17\":\"\",\"18\":\"\",\"19\":\"\",\"20\":\"\",\"21\":\"parkland\",\"22\":\"parkland\",\"23\":\"parkland\",\"24\":\"parkland\",\"25\":\"parkland\",\"26\":\"parkland\",\"27\":\"sidewalk\",\"28\":\"sidewalk\",\"29\":\"sidewalk\",\"30\":\"sidewalk\",\"31\":\"sidewalk\",\"32\":\"sidewalk\",\"33\":\"sidewalk\",\"34\":\"sidewalk\",\"35\":\"sidewalk\",\"36\":\"sidewalk\",\"37\":\"sidewalk\",\"38\":\"sidewalk\",\"39\":\"sidewalk\",\"40\":\"sidewalk\",\"41\":\"sidewalk\",\"42\":\"sidewalk\",\"43\":\"sidewalk\",\"44\":\"sidewalk\",\"45\":\"sidewalk\",\"46\":\"sidewalk\",\"47\":\"sidewalk\",\"48\":\"sidewalk\",\"49\":\"sidewalk\",\"50\":\"sidewalk\",\"51\":\"sidewalk\",\"52\":\"sidewalk\",\"53\":\"paid_parking\",\"54\":\"paid_parking\",\"55\":\"paid_parking\",\"56\":\"paid_parking\",\"57\":\"paid_parking\",\"58\":\"paid_parking\",\"59\":\"paid_parking\",\"60\":\"paid_parking\",\"61\":\"paid_parking\",\"62\":\"paid_parking\",\"63\":\"paid_parking\",\"64\":\"paid_parking\",\"65\":\"paid_parking\",\"66\":\"paid_parking\",\"67\":\"paid_parking\",\"68\":\"paid_parking\",\"69\":\"paid_parking\",\"70\":\"paid_parking\",\"71\":\"nonmetered_parking\",\"72\":\"nonmetered_parking\",\"73\":\"nonmetered_parking\",\"74\":\"nonmetered_parking\",\"75\":\"nonmetered_parking\",\"76\":\"nonmetered_parking\",\"77\":\"nonmetered_parking\",\"78\":\"nonmetered_parking\",\"79\":\"undetermined_parking\",\"80\":\"undetermined_parking\",\"81\":\"undetermined_parking\",\"82\":\"undetermined_parking\",\"83\":\"undetermined_parking\",\"84\":\"undetermined_parking\",\"85\":\"undetermined_parking\",\"86\":\"undetermined_parking\",\"87\":\"undetermined_parking\",\"88\":\"undetermined_parking\",\"89\":\"undetermined_parking\",\"90\":\"undetermined_parking\",\"91\":\"undetermined_parking\",\"92\":\"undetermined_parking\",\"93\":\"undetermined_parking\",\"94\":\"undetermined_parking\",\"95\":\"undetermined_parking\",\"96\":\"undetermined_parking\",\"97\":\"undetermined_parking\"},\"number_of_docks\":{\"0\":\"\",\"1\":\"\",\"2\":\"\",\"3\":\"\",\"4\":\"\",\"5\":\"\",\"6\":\"\",\"7\":\"\",\"8\":\"\",\"9\":\"\",\"10\":\"\",\"11\":\"\",\"12\":\"\",\"13\":\"\",\"14\":\"\",\"15\":\"\",\"16\":\"\",\"17\":\"\",\"18\":\"\",\"19\":\"\",\"20\":\"\",\"21\":9,\"22\":11,\"23\":13,\"24\":15,\"25\":17,\"26\":17,\"27\":10,\"28\":10,\"29\":14,\"30\":12,\"31\":18,\"32\":9,\"33\":9,\"34\":16,\"35\":11,\"36\":11,\"37\":22,\"38\":22,\"39\":11,\"40\":12,\"41\":13,\"42\":12,\"43\":13,\"44\":13,\"45\":13,\"46\":13,\"47\":13,\"48\":13,\"49\":15,\"50\":17,\"51\":19,\"52\":19,\"53\":11,\"54\":13,\"55\":12,\"56\":13,\"57\":13,\"58\":13,\"59\":12,\"60\":13,\"61\":13,\"62\":13,\"63\":13,\"64\":13,\"65\":13,\"66\":15,\"67\":15,\"68\":15,\"69\":15,\"70\":19,\"71\":10,\"72\":13,\"73\":13,\"74\":13,\"75\":13,\"76\":13,\"77\":15,\"78\":18,\"79\":9,\"80\":11,\"81\":11,\"82\":11,\"83\":11,\"84\":13,\"85\":13,\"86\":13,\"87\":13,\"88\":13,\"89\":13,\"90\":13,\"91\":13,\"92\":13,\"93\":13,\"94\":19,\"95\":19,\"96\":19,\"97\":19},\"power_type\":{\"0\":\"\",\"1\":\"\",\"2\":\"\",\"3\":\" \",\"4\":\"\",\"5\":\"\",\"6\":\"\",\"7\":\"\",\"8\":\"\",\"9\":\"\",\"10\":\"\",\"11\":\"\",\"12\":\"\",\"13\":\"\",\"14\":\"\",\"15\":\"\",\"16\":\"\",\"17\":\"\",\"18\":\"\",\"19\":\"\",\"20\":\"\",\"21\":\"solar\",\"22\":\"solar\",\"23\":\"solar\",\"24\":\"solar\",\"25\":\"solar\",\"26\":\"solar\",\"27\":\"solar\",\"28\":\"solar\",\"29\":\"solar\",\"30\":\"solar\",\"31\":\"solar\",\"32\":\"solar\",\"33\":\"solar\",\"34\":\"solar\",\"35\":\"solar\",\"36\":\"solar\",\"37\":\"solar\",\"38\":\"solar\",\"39\":\"solar\",\"40\":\"solar\",\"41\":\"solar\",\"42\":\"solar\",\"43\":\"solar\",\"44\":\"solar\",\"45\":\"non-metered\",\"46\":\"solar\",\"47\":\"solar\",\"48\":\"solar\",\"49\":\"solar\",\"50\":\"non-metered\",\"51\":\"solar\",\"52\":\"solar\",\"53\":\"solar\",\"54\":\"solar\",\"55\":\"solar\",\"56\":\"solar\",\"57\":\"solar\",\"58\":\"solar\",\"59\":\"solar\",\"60\":\"solar\",\"61\":\"solar\",\"62\":\"solar\",\"63\":\"solar\",\"64\":\"solar\",\"65\":\"solar\",\"66\":\"solar\",\"67\":\"solar\",\"68\":\"solar\",\"69\":\"solar\",\"70\":\"solar\",\"71\":\"solar\",\"72\":\"solar\",\"73\":\"solar\",\"74\":\"solar\",\"75\":\"solar\",\"76\":\"solar\",\"77\":\"solar\",\"78\":\"solar\",\"79\":\"solar\",\"80\":\"solar\",\"81\":\"solar\",\"82\":\"solar\",\"83\":\"solar\",\"84\":\"solar\",\"85\":\"solar\",\"86\":\"solar\",\"87\":\"solar\",\"88\":\"solar\",\"89\":\"solar\",\"90\":\"solar\",\"91\":\"solar\",\"92\":\"solar\",\"93\":\"solar\",\"94\":\"solar\",\"95\":\"solar\",\"96\":\"solar\",\"97\":\"solar\"},\"footprint_length\":{\"0\":\"\",\"1\":\"\",\"2\":\"\",\"3\":\"\",\"4\":\"\",\"5\":\"\",\"6\":\"\",\"7\":\"\",\"8\":\"\",\"9\":\"\",\"10\":\"\",\"11\":\"\",\"12\":\"\",\"13\":\"\",\"14\":\"\",\"15\":\"\",\"16\":\"\",\"17\":\"\",\"18\":\"\",\"19\":\"\",\"20\":\"\",\"21\":30.0,\"22\":35.0,\"23\":40.0,\"24\":45.0,\"25\":50.0,\"26\":50.0,\"27\":15.0,\"28\":20.0,\"29\":20.0,\"30\":25.0,\"31\":25.0,\"32\":25.0,\"33\":26.0,\"34\":30.0,\"35\":30.0,\"36\":30.0,\"37\":30.0,\"38\":30.0,\"39\":35.0,\"40\":35.0,\"41\":40.0,\"42\":40.0,\"43\":40.0,\"44\":40.0,\"45\":40.0,\"46\":40.0,\"47\":40.0,\"48\":40.0,\"49\":45.0,\"50\":50.0,\"51\":55.0,\"52\":55.0,\"53\":35.0,\"54\":40.0,\"55\":40.0,\"56\":40.0,\"57\":40.0,\"58\":40.0,\"59\":40.0,\"60\":40.0,\"61\":40.0,\"62\":40.0,\"63\":40.0,\"64\":40.0,\"65\":40.0,\"66\":45.0,\"67\":45.0,\"68\":45.0,\"69\":45.0,\"70\":55.0,\"71\":20.0,\"72\":40.0,\"73\":40.0,\"74\":40.0,\"75\":40.0,\"76\":40.0,\"77\":45.0,\"78\":55.0,\"79\":30.0,\"80\":35.0,\"81\":35.0,\"82\":35.0,\"83\":35.0,\"84\":40.0,\"85\":40.0,\"86\":40.0,\"87\":40.0,\"88\":40.0,\"89\":40.0,\"90\":40.0,\"91\":40.0,\"92\":40.0,\"93\":40.0,\"94\":55.0,\"95\":55.0,\"96\":55.0,\"97\":55.0},\"footprint_width\":{\"0\":\"\",\"1\":\"\",\"2\":\"\",\"3\":\"\",\"4\":\"\",\"5\":\"\",\"6\":\"\",\"7\":\"\",\"8\":\"\",\"9\":\"\",\"10\":\"\",\"11\":\"\",\"12\":\"\",\"13\":\"\",\"14\":\"\",\"15\":\"\",\"16\":\"\",\"17\":\"\",\"18\":\"\",\"19\":\"\",\"20\":\"\",\"21\":5.0,\"22\":5.0,\"23\":5.0,\"24\":5.0,\"25\":5.0,\"26\":5.0,\"27\":10.0,\"28\":7.5,\"29\":7.5,\"30\":7.5,\"31\":7.5,\"32\":5.0,\"33\":7.5,\"34\":7.5,\"35\":5.0,\"36\":5.0,\"37\":7.5,\"38\":7.5,\"39\":5.0,\"40\":5.0,\"41\":5.0,\"42\":5.0,\"43\":5.0,\"44\":5.0,\"45\":5.0,\"46\":5.0,\"47\":5.0,\"48\":5.0,\"49\":5.0,\"50\":5.0,\"51\":5.0,\"52\":5.0,\"53\":5.0,\"54\":5.0,\"55\":5.0,\"56\":5.0,\"57\":5.0,\"58\":5.0,\"59\":5.0,\"60\":5.0,\"61\":5.0,\"62\":5.0,\"63\":5.0,\"64\":5.0,\"65\":5.0,\"66\":5.0,\"67\":5.0,\"68\":5.0,\"69\":5.0,\"70\":5.0,\"71\":15.0,\"72\":5.0,\"73\":5.0,\"74\":5.0,\"75\":5.0,\"76\":5.0,\"77\":5.0,\"78\":5.0,\"79\":5.0,\"80\":5.0,\"81\":5.0,\"82\":5.0,\"83\":5.0,\"84\":5.0,\"85\":5.0,\"86\":5.0,\"87\":5.0,\"88\":5.0,\"89\":5.0,\"90\":5.0,\"91\":5.0,\"92\":5.0,\"93\":5.0,\"94\":5.0,\"95\":5.0,\"96\":5.0,\"97\":5.0},\"notes\":{\"0\":\"\",\"1\":\"\",\"2\":\"\",\"3\":\"moved to Pedernales\\\\/2nd. Original city ID: 16729\",\"4\":\"\",\"5\":\"\",\"6\":\"\",\"7\":\"\",\"8\":\"\",\"9\":\"\",\"10\":\"\",\"11\":\"\",\"12\":\"\",\"13\":\"\",\"14\":\"\",\"15\":\"\",\"16\":\"\",\"17\":\"\",\"18\":\"\",\"19\":\"\",\"20\":\"\",\"21\":\"\",\"22\":\"parkland at ROW\\\\/easement\",\"23\":\"\",\"24\":\"parkland at ROW\\\\/easement\",\"25\":\"parkland at ROW\\\\/easement\",\"26\":\"parkland at ROW\\\\/easement\",\"27\":\"\",\"28\":\"on bulb-out\",\"29\":\"double sided\",\"30\":\"double sided, remeasure\",\"31\":\"double sided\",\"32\":\"\",\"33\":\"on bulb-out\",\"34\":\"2-sided station on pad adjacent to sidewalk in ROW\\\\/easement\",\"35\":\"\",\"36\":\"remeasure\",\"37\":\"On UT property-2 sided\",\"38\":\"On UT property-2 sided\",\"39\":\"\",\"40\":\"\",\"41\":\"on pad built in ROW\\\\/easement\",\"42\":\"on station plaza\",\"43\":\"\",\"44\":\"state property?\",\"45\":\"\",\"46\":\"\",\"47\":\"\",\"48\":\"\",\"49\":\"adjacent to parkland\",\"50\":\"moving soon when CapMetro Station work complete\",\"51\":\"adjacent to parkland\",\"52\":\"check dock #-18?\",\"53\":\"\",\"54\":\"\",\"55\":\"\",\"56\":\"in buffer area parking\",\"57\":\"\",\"58\":\"\",\"59\":\"\",\"60\":\"\",\"61\":\"\",\"62\":\"\",\"63\":\"\",\"64\":\"\",\"65\":\"\",\"66\":\"in buffer area parking, check dock #\",\"67\":\"\",\"68\":\"\",\"69\":\"\",\"70\":\"\",\"71\":\"Kiosk replaced by Barton Sp\\\\/Riverside.  Old city ID: 32517\",\"72\":\"\",\"73\":\"\",\"74\":\"\",\"75\":\"\",\"76\":\"\",\"77\":\"\",\"78\":\"\",\"79\":\"\",\"80\":\"\",\"81\":\"\",\"82\":\"\",\"83\":\"\",\"84\":\"\",\"85\":\"\",\"86\":\"\",\"87\":\"\",\"88\":\"\",\"89\":\"\",\"90\":\"\",\"91\":\"\",\"92\":\"\",\"93\":\"\",\"94\":\"parkland in ROW\\\\/eastment\",\"95\":\"\",\"96\":\"\",\"97\":\"ROW might belong to UT\"},\"council_district\":{\"0\":9,\"1\":9,\"2\":3,\"3\":9,\"4\":1,\"5\":1,\"6\":9,\"7\":9,\"8\":9,\"9\":3,\"10\":9,\"11\":5,\"12\":3,\"13\":1,\"14\":3,\"15\":9,\"16\":1,\"17\":1,\"18\":8,\"19\":9,\"20\":9,\"21\":9,\"22\":9,\"23\":8,\"24\":5,\"25\":8,\"26\":9,\"27\":3,\"28\":9,\"29\":9,\"30\":9,\"31\":1,\"32\":9,\"33\":9,\"34\":5,\"35\":9,\"36\":9,\"37\":9,\"38\":1,\"39\":1,\"40\":9,\"41\":9,\"42\":3,\"43\":9,\"44\":1,\"45\":9,\"46\":9,\"47\":10,\"48\":9,\"49\":9,\"50\":9,\"51\":9,\"52\":9,\"53\":9,\"54\":9,\"55\":9,\"56\":9,\"57\":9,\"58\":9,\"59\":9,\"60\":9,\"61\":9,\"62\":9,\"63\":9,\"64\":1,\"65\":3,\"66\":9,\"67\":9,\"68\":9,\"69\":9,\"70\":9,\"71\":3,\"72\":1,\"73\":1,\"74\":1,\"75\":5,\"76\":3,\"77\":3,\"78\":3,\"79\":3,\"80\":3,\"81\":1,\"82\":1,\"83\":3,\"84\":3,\"85\":3,\"86\":9,\"87\":9,\"88\":5,\"89\":10,\"90\":9,\"91\":9,\"92\":9,\"93\":9,\"94\":9,\"95\":9,\"96\":9,\"97\":9},\"modified_date\":{\"0\":\"2021-01-04T12:00:00Z\",\"1\":\"2021-01-04T12:00:00Z\",\"2\":\"2021-01-04T12:00:00Z\",\"3\":\"2021-01-04T12:00:00Z\",\"4\":\"2021-01-04T12:00:00Z\",\"5\":\"2021-01-04T12:00:00Z\",\"6\":\"2021-01-04T12:00:00Z\",\"7\":\"2021-01-04T12:00:00Z\",\"8\":\"2021-01-04T12:00:00Z\",\"9\":\"2021-01-04T12:00:00Z\",\"10\":\"2021-01-04T12:00:00Z\",\"11\":\"2021-01-04T12:00:00Z\",\"12\":\"2021-01-04T12:00:00Z\",\"13\":\"2021-01-04T12:00:00Z\",\"14\":\"2021-01-04T12:00:00Z\",\"15\":\"2021-01-04T12:00:00Z\",\"16\":\"2021-01-04T12:00:00Z\",\"17\":\"2021-01-04T12:00:00Z\",\"18\":\"2021-01-04T12:00:00Z\",\"19\":\"2021-01-04T12:00:00Z\",\"20\":\"2021-01-04T12:00:00Z\",\"21\":\"2021-01-04T12:00:00Z\",\"22\":\"2021-01-04T12:00:00Z\",\"23\":\"2021-01-04T12:00:00Z\",\"24\":\"2021-01-04T12:00:00Z\",\"25\":\"2021-01-04T12:00:00Z\",\"26\":\"2021-01-04T12:00:00Z\",\"27\":\"2021-07-27T08:25:00Z\",\"28\":\"2021-01-04T12:00:00Z\",\"29\":\"2021-01-04T12:00:00Z\",\"30\":\"2021-01-04T12:00:00Z\",\"31\":\"2021-01-04T12:00:00Z\",\"32\":\"2021-01-04T12:00:00Z\",\"33\":\"2021-01-04T12:00:00Z\",\"34\":\"2021-01-04T12:00:00Z\",\"35\":\"2021-01-04T12:00:00Z\",\"36\":\"2021-01-04T12:00:00Z\",\"37\":\"2021-01-04T12:00:00Z\",\"38\":\"2021-01-04T12:00:00Z\",\"39\":\"2021-01-04T12:00:00Z\",\"40\":\"2021-01-04T12:00:00Z\",\"41\":\"2021-01-04T12:00:00Z\",\"42\":\"2021-01-04T12:00:00Z\",\"43\":\"2021-01-04T12:00:00Z\",\"44\":\"2021-01-04T12:00:00Z\",\"45\":\"2021-01-04T12:00:00Z\",\"46\":\"2021-01-04T12:00:00Z\",\"47\":\"2021-01-04T12:00:00Z\",\"48\":\"2021-01-04T12:00:00Z\",\"49\":\"2021-01-04T12:00:00Z\",\"50\":\"2021-01-04T12:00:00Z\",\"51\":\"2021-01-04T12:00:00Z\",\"52\":\"2021-01-04T12:00:00Z\",\"53\":\"2021-01-04T12:00:00Z\",\"54\":\"2021-01-04T12:00:00Z\",\"55\":\"2021-03-12T01:02:00Z\",\"56\":\"2021-01-04T12:00:00Z\",\"57\":\"2021-01-04T12:00:00Z\",\"58\":\"2021-01-04T12:00:00Z\",\"59\":\"2021-03-12T01:15:00Z\",\"60\":\"2021-03-12T12:49:00Z\",\"61\":\"2021-01-04T12:00:00Z\",\"62\":\"2021-01-04T12:00:00Z\",\"63\":\"2021-01-04T12:00:00Z\",\"64\":\"2021-01-04T12:00:00Z\",\"65\":\"2021-01-04T12:00:00Z\",\"66\":\"2021-01-04T12:00:00Z\",\"67\":\"2021-01-04T12:00:00Z\",\"68\":\"2021-01-04T12:00:00Z\",\"69\":\"2021-01-04T12:00:00Z\",\"70\":\"2021-01-04T12:00:00Z\",\"71\":\"2021-01-04T12:00:00Z\",\"72\":\"2021-01-04T12:00:00Z\",\"73\":\"2021-01-04T12:00:00Z\",\"74\":\"2021-01-04T12:00:00Z\",\"75\":\"2021-01-04T12:00:00Z\",\"76\":\"2021-01-04T12:00:00Z\",\"77\":\"2021-01-04T12:00:00Z\",\"78\":\"2021-01-04T12:00:00Z\",\"79\":\"2021-01-04T12:00:00Z\",\"80\":\"2021-01-04T12:00:00Z\",\"81\":\"2021-01-04T12:00:00Z\",\"82\":\"2021-01-04T12:00:00Z\",\"83\":\"2021-01-04T12:00:00Z\",\"84\":\"2021-01-04T12:00:00Z\",\"85\":\"2021-01-04T12:00:00Z\",\"86\":\"2021-01-04T12:00:00Z\",\"87\":\"2021-01-04T12:00:00Z\",\"88\":\"2021-01-04T12:00:00Z\",\"89\":\"2021-01-04T12:00:00Z\",\"90\":\"2021-01-04T12:00:00Z\",\"91\":\"2021-01-04T12:00:00Z\",\"92\":\"2021-01-04T12:00:00Z\",\"93\":\"2021-01-04T12:00:00Z\",\"94\":\"2021-01-04T12:00:00Z\",\"95\":\"2021-01-04T12:00:00Z\",\"96\":\"2021-01-04T12:00:00Z\",\"97\":\"2021-01-04T12:00:00Z\"}}'"
      ]
     },
     "execution_count": 169,
     "metadata": {},
     "output_type": "execute_result"
    }
   ],
   "source": [
    "# your code\n",
    "def route_all_stations():\n",
    "    conn = make_connection()\n",
    "    stations = get_all_stations(conn)\n",
    "    return stations.to_json()\n",
    "    \n",
    "def get_all_stations(conn):\n",
    "    query = f\"\"\"SELECT * FROM stations\"\"\"\n",
    "    result = pd.read_sql_query(query, conn)\n",
    "    return result\n",
    "\n",
    "result=route_all_stations()\n",
    "result"
   ]
  },
  {
   "cell_type": "markdown",
   "id": "bc45734a-5d15-4e4c-837f-64ab1cafdde6",
   "metadata": {},
   "source": [
    "### Access Endpoints"
   ]
  },
  {
   "cell_type": "markdown",
   "id": "43143d5d-a361-4141-8f35-2b47f112075a",
   "metadata": {},
   "source": [
    "To access our endpoints using python, simply use `requests` library followed by the request method (post, get, put, delete, etc) the passed in the url or data "
   ]
  },
  {
   "cell_type": "code",
   "execution_count": 170,
   "id": "f1a3ebbe-591d-4b38-b858-6ef1ea787d74",
   "metadata": {},
   "outputs": [
    {
     "data": {
      "text/plain": [
       "<Response [200]>"
      ]
     },
     "execution_count": 170,
     "metadata": {},
     "output_type": "execute_result"
    }
   ],
   "source": [
    "url = 'http://127.0.0.1:5000/stations/'\n",
    "res = requests.get(url)\n",
    "res"
   ]
  },
  {
   "cell_type": "markdown",
   "id": "9a74d722-50f9-4c1c-9fca-ab8708cf9848",
   "metadata": {},
   "source": [
    "The response sent by the server was not only contains bare data. It was packed as HTTP response, meaning that we need to unpack the response first  in order to get the data. we can use `res.json()` to obtain it, then use pandas to transform it into dataframe for readibility or future analysis purposes. "
   ]
  },
  {
   "cell_type": "code",
   "execution_count": 171,
   "id": "c2b40a51-3e8f-4991-b58e-70cb3b95f345",
   "metadata": {},
   "outputs": [
    {
     "data": {
      "text/html": [
       "<div>\n",
       "<style scoped>\n",
       "    .dataframe tbody tr th:only-of-type {\n",
       "        vertical-align: middle;\n",
       "    }\n",
       "\n",
       "    .dataframe tbody tr th {\n",
       "        vertical-align: top;\n",
       "    }\n",
       "\n",
       "    .dataframe thead th {\n",
       "        text-align: right;\n",
       "    }\n",
       "</style>\n",
       "<table border=\"1\" class=\"dataframe\">\n",
       "  <thead>\n",
       "    <tr style=\"text-align: right;\">\n",
       "      <th></th>\n",
       "      <th>station_id</th>\n",
       "      <th>name</th>\n",
       "      <th>status</th>\n",
       "      <th>address</th>\n",
       "      <th>alternate_name</th>\n",
       "      <th>city_asset_number</th>\n",
       "      <th>property_type</th>\n",
       "      <th>number_of_docks</th>\n",
       "      <th>power_type</th>\n",
       "      <th>footprint_length</th>\n",
       "      <th>footprint_width</th>\n",
       "      <th>notes</th>\n",
       "      <th>council_district</th>\n",
       "      <th>modified_date</th>\n",
       "    </tr>\n",
       "  </thead>\n",
       "  <tbody>\n",
       "    <tr>\n",
       "      <th>0</th>\n",
       "      <td>2500</td>\n",
       "      <td>Republic Square</td>\n",
       "      <td>closed</td>\n",
       "      <td>425 W 4th Street</td>\n",
       "      <td></td>\n",
       "      <td></td>\n",
       "      <td></td>\n",
       "      <td></td>\n",
       "      <td></td>\n",
       "      <td></td>\n",
       "      <td></td>\n",
       "      <td></td>\n",
       "      <td>9</td>\n",
       "      <td>2021-01-04T12:00:00Z</td>\n",
       "    </tr>\n",
       "    <tr>\n",
       "      <th>1</th>\n",
       "      <td>3464</td>\n",
       "      <td>Pease Park</td>\n",
       "      <td>closed</td>\n",
       "      <td>1155 Kingsbury St</td>\n",
       "      <td></td>\n",
       "      <td></td>\n",
       "      <td></td>\n",
       "      <td></td>\n",
       "      <td></td>\n",
       "      <td></td>\n",
       "      <td></td>\n",
       "      <td></td>\n",
       "      <td>9</td>\n",
       "      <td>2021-01-04T12:00:00Z</td>\n",
       "    </tr>\n",
       "    <tr>\n",
       "      <th>2</th>\n",
       "      <td>2536</td>\n",
       "      <td>Waller &amp; 6th St.</td>\n",
       "      <td>closed</td>\n",
       "      <td>602 Waller St.</td>\n",
       "      <td></td>\n",
       "      <td></td>\n",
       "      <td></td>\n",
       "      <td></td>\n",
       "      <td></td>\n",
       "      <td></td>\n",
       "      <td></td>\n",
       "      <td></td>\n",
       "      <td>3</td>\n",
       "      <td>2021-01-04T12:00:00Z</td>\n",
       "    </tr>\n",
       "    <tr>\n",
       "      <th>3</th>\n",
       "      <td>2502</td>\n",
       "      <td>Barton Springs &amp; Riverside</td>\n",
       "      <td>closed</td>\n",
       "      <td>400 Barton Springs Rd.</td>\n",
       "      <td></td>\n",
       "      <td></td>\n",
       "      <td></td>\n",
       "      <td></td>\n",
       "      <td></td>\n",
       "      <td></td>\n",
       "      <td></td>\n",
       "      <td>moved to Pedernales/2nd. Original city ID: 16729</td>\n",
       "      <td>9</td>\n",
       "      <td>2021-01-04T12:00:00Z</td>\n",
       "    </tr>\n",
       "    <tr>\n",
       "      <th>4</th>\n",
       "      <td>2538</td>\n",
       "      <td>Bullock Museum @ Congress &amp; MLK</td>\n",
       "      <td>closed</td>\n",
       "      <td>1881 Congress Ave.</td>\n",
       "      <td></td>\n",
       "      <td></td>\n",
       "      <td></td>\n",
       "      <td></td>\n",
       "      <td></td>\n",
       "      <td></td>\n",
       "      <td></td>\n",
       "      <td></td>\n",
       "      <td>1</td>\n",
       "      <td>2021-01-04T12:00:00Z</td>\n",
       "    </tr>\n",
       "    <tr>\n",
       "      <th>...</th>\n",
       "      <td>...</td>\n",
       "      <td>...</td>\n",
       "      <td>...</td>\n",
       "      <td>...</td>\n",
       "      <td>...</td>\n",
       "      <td>...</td>\n",
       "      <td>...</td>\n",
       "      <td>...</td>\n",
       "      <td>...</td>\n",
       "      <td>...</td>\n",
       "      <td>...</td>\n",
       "      <td>...</td>\n",
       "      <td>...</td>\n",
       "      <td>...</td>\n",
       "    </tr>\n",
       "    <tr>\n",
       "      <th>93</th>\n",
       "      <td>4048</td>\n",
       "      <td>South Congress @ Bouldin Creek</td>\n",
       "      <td>active</td>\n",
       "      <td>799 South Congress Avenue</td>\n",
       "      <td></td>\n",
       "      <td>32746</td>\n",
       "      <td>undetermined_parking</td>\n",
       "      <td>13</td>\n",
       "      <td>solar</td>\n",
       "      <td>40.0</td>\n",
       "      <td>5.0</td>\n",
       "      <td></td>\n",
       "      <td>9</td>\n",
       "      <td>2021-01-04T12:00:00Z</td>\n",
       "    </tr>\n",
       "    <tr>\n",
       "      <th>94</th>\n",
       "      <td>3377</td>\n",
       "      <td>MoPac Pedestrian Bridge @ Veterans Drive</td>\n",
       "      <td>active</td>\n",
       "      <td>2105 Veterans Dr.</td>\n",
       "      <td></td>\n",
       "      <td>16598</td>\n",
       "      <td>undetermined_parking</td>\n",
       "      <td>19</td>\n",
       "      <td>solar</td>\n",
       "      <td>55.0</td>\n",
       "      <td>5.0</td>\n",
       "      <td>parkland in ROW/eastment</td>\n",
       "      <td>9</td>\n",
       "      <td>2021-01-04T12:00:00Z</td>\n",
       "    </tr>\n",
       "    <tr>\n",
       "      <th>95</th>\n",
       "      <td>3794</td>\n",
       "      <td>Dean Keeton &amp; Speedway</td>\n",
       "      <td>active</td>\n",
       "      <td>180 E. Dean Keeton St.</td>\n",
       "      <td></td>\n",
       "      <td>32670</td>\n",
       "      <td>undetermined_parking</td>\n",
       "      <td>19</td>\n",
       "      <td>solar</td>\n",
       "      <td>55.0</td>\n",
       "      <td>5.0</td>\n",
       "      <td></td>\n",
       "      <td>9</td>\n",
       "      <td>2021-01-04T12:00:00Z</td>\n",
       "    </tr>\n",
       "    <tr>\n",
       "      <th>96</th>\n",
       "      <td>3795</td>\n",
       "      <td>Dean Keeton &amp; Whitis</td>\n",
       "      <td>active</td>\n",
       "      <td>300 W. Dean Keeton St.</td>\n",
       "      <td></td>\n",
       "      <td>32671</td>\n",
       "      <td>undetermined_parking</td>\n",
       "      <td>19</td>\n",
       "      <td>solar</td>\n",
       "      <td>55.0</td>\n",
       "      <td>5.0</td>\n",
       "      <td></td>\n",
       "      <td>9</td>\n",
       "      <td>2021-01-04T12:00:00Z</td>\n",
       "    </tr>\n",
       "    <tr>\n",
       "      <th>97</th>\n",
       "      <td>3797</td>\n",
       "      <td>21st &amp; University</td>\n",
       "      <td>active</td>\n",
       "      <td>2007 University Ave.</td>\n",
       "      <td></td>\n",
       "      <td>32674</td>\n",
       "      <td>undetermined_parking</td>\n",
       "      <td>19</td>\n",
       "      <td>solar</td>\n",
       "      <td>55.0</td>\n",
       "      <td>5.0</td>\n",
       "      <td>ROW might belong to UT</td>\n",
       "      <td>9</td>\n",
       "      <td>2021-01-04T12:00:00Z</td>\n",
       "    </tr>\n",
       "  </tbody>\n",
       "</table>\n",
       "<p>98 rows × 14 columns</p>\n",
       "</div>"
      ],
      "text/plain": [
       "    station_id                                      name  status   \n",
       "0         2500                           Republic Square  closed  \\\n",
       "1         3464                                Pease Park  closed   \n",
       "2         2536                          Waller & 6th St.  closed   \n",
       "3         2502                Barton Springs & Riverside  closed   \n",
       "4         2538           Bullock Museum @ Congress & MLK  closed   \n",
       "..         ...                                       ...     ...   \n",
       "93        4048            South Congress @ Bouldin Creek  active   \n",
       "94        3377  MoPac Pedestrian Bridge @ Veterans Drive  active   \n",
       "95        3794                    Dean Keeton & Speedway  active   \n",
       "96        3795                      Dean Keeton & Whitis  active   \n",
       "97        3797                         21st & University  active   \n",
       "\n",
       "                      address alternate_name city_asset_number   \n",
       "0            425 W 4th Street                                   \\\n",
       "1           1155 Kingsbury St                                    \n",
       "2              602 Waller St.                                    \n",
       "3      400 Barton Springs Rd.                                    \n",
       "4          1881 Congress Ave.                                    \n",
       "..                        ...            ...               ...   \n",
       "93  799 South Congress Avenue                            32746   \n",
       "94          2105 Veterans Dr.                            16598   \n",
       "95     180 E. Dean Keeton St.                            32670   \n",
       "96     300 W. Dean Keeton St.                            32671   \n",
       "97       2007 University Ave.                            32674   \n",
       "\n",
       "           property_type number_of_docks power_type footprint_length   \n",
       "0                                                                     \\\n",
       "1                                                                      \n",
       "2                                                                      \n",
       "3                                                                      \n",
       "4                                                                      \n",
       "..                   ...             ...        ...              ...   \n",
       "93  undetermined_parking              13      solar             40.0   \n",
       "94  undetermined_parking              19      solar             55.0   \n",
       "95  undetermined_parking              19      solar             55.0   \n",
       "96  undetermined_parking              19      solar             55.0   \n",
       "97  undetermined_parking              19      solar             55.0   \n",
       "\n",
       "   footprint_width                                             notes   \n",
       "0                                                                     \\\n",
       "1                                                                      \n",
       "2                                                                      \n",
       "3                   moved to Pedernales/2nd. Original city ID: 16729   \n",
       "4                                                                      \n",
       "..             ...                                               ...   \n",
       "93             5.0                                                     \n",
       "94             5.0                          parkland in ROW/eastment   \n",
       "95             5.0                                                     \n",
       "96             5.0                                                     \n",
       "97             5.0                            ROW might belong to UT   \n",
       "\n",
       "    council_district         modified_date  \n",
       "0                  9  2021-01-04T12:00:00Z  \n",
       "1                  9  2021-01-04T12:00:00Z  \n",
       "2                  3  2021-01-04T12:00:00Z  \n",
       "3                  9  2021-01-04T12:00:00Z  \n",
       "4                  1  2021-01-04T12:00:00Z  \n",
       "..               ...                   ...  \n",
       "93                 9  2021-01-04T12:00:00Z  \n",
       "94                 9  2021-01-04T12:00:00Z  \n",
       "95                 9  2021-01-04T12:00:00Z  \n",
       "96                 9  2021-01-04T12:00:00Z  \n",
       "97                 9  2021-01-04T12:00:00Z  \n",
       "\n",
       "[98 rows x 14 columns]"
      ]
     },
     "execution_count": 171,
     "metadata": {},
     "output_type": "execute_result"
    }
   ],
   "source": [
    "pd.DataFrame(res.json())#.head()"
   ]
  },
  {
   "cell_type": "code",
   "execution_count": 97,
   "id": "6a237b36",
   "metadata": {},
   "outputs": [
    {
     "data": {
      "text/html": [
       "<div>\n",
       "<style scoped>\n",
       "    .dataframe tbody tr th:only-of-type {\n",
       "        vertical-align: middle;\n",
       "    }\n",
       "\n",
       "    .dataframe tbody tr th {\n",
       "        vertical-align: top;\n",
       "    }\n",
       "\n",
       "    .dataframe thead th {\n",
       "        text-align: right;\n",
       "    }\n",
       "</style>\n",
       "<table border=\"1\" class=\"dataframe\">\n",
       "  <thead>\n",
       "    <tr style=\"text-align: right;\">\n",
       "      <th></th>\n",
       "      <th>id</th>\n",
       "      <th>subscriber_type</th>\n",
       "      <th>bikeid</th>\n",
       "      <th>start_time</th>\n",
       "      <th>start_station_id</th>\n",
       "      <th>start_station_name</th>\n",
       "      <th>end_station_id</th>\n",
       "      <th>end_station_name</th>\n",
       "      <th>duration_minutes</th>\n",
       "    </tr>\n",
       "  </thead>\n",
       "  <tbody>\n",
       "    <tr>\n",
       "      <th>0</th>\n",
       "      <td>9900289692</td>\n",
       "      <td>Walk Up</td>\n",
       "      <td>248</td>\n",
       "      <td>2015-10-02 21:12:01 UTC</td>\n",
       "      <td>1006</td>\n",
       "      <td>Zilker Park West</td>\n",
       "      <td>1008</td>\n",
       "      <td>Nueces @ 3rd</td>\n",
       "      <td>39</td>\n",
       "    </tr>\n",
       "    <tr>\n",
       "      <th>1</th>\n",
       "      <td>9900285987</td>\n",
       "      <td>24-Hour Kiosk (Austin B-cycle)</td>\n",
       "      <td>446</td>\n",
       "      <td>2014-10-26 15:12:00 UTC</td>\n",
       "      <td>2712</td>\n",
       "      <td>Toomey Rd @ South Lamar</td>\n",
       "      <td>2712</td>\n",
       "      <td>Toomey Rd @ South Lamar</td>\n",
       "      <td>31</td>\n",
       "    </tr>\n",
       "    <tr>\n",
       "      <th>2</th>\n",
       "      <td>9900285989</td>\n",
       "      <td>24-Hour Kiosk (Austin B-cycle)</td>\n",
       "      <td>203</td>\n",
       "      <td>2014-10-26 15:12:00 UTC</td>\n",
       "      <td>2712</td>\n",
       "      <td>Toomey Rd @ South Lamar</td>\n",
       "      <td>2712</td>\n",
       "      <td>Toomey Rd @ South Lamar</td>\n",
       "      <td>31</td>\n",
       "    </tr>\n",
       "    <tr>\n",
       "      <th>3</th>\n",
       "      <td>9900285991</td>\n",
       "      <td>24-Hour Kiosk (Austin B-cycle)</td>\n",
       "      <td>101</td>\n",
       "      <td>2014-10-26 15:12:00 UTC</td>\n",
       "      <td>2712</td>\n",
       "      <td>Toomey Rd @ South Lamar</td>\n",
       "      <td>2712</td>\n",
       "      <td>Toomey Rd @ South Lamar</td>\n",
       "      <td>30</td>\n",
       "    </tr>\n",
       "    <tr>\n",
       "      <th>4</th>\n",
       "      <td>9900286140</td>\n",
       "      <td>24-Hour Kiosk (Austin B-cycle)</td>\n",
       "      <td>242</td>\n",
       "      <td>2014-10-26 18:12:00 UTC</td>\n",
       "      <td>2541</td>\n",
       "      <td>State Capitol @ 14th &amp; Colorado</td>\n",
       "      <td>2541</td>\n",
       "      <td>State Capitol @ 14th &amp; Colorado</td>\n",
       "      <td>19</td>\n",
       "    </tr>\n",
       "  </tbody>\n",
       "</table>\n",
       "</div>"
      ],
      "text/plain": [
       "           id                 subscriber_type bikeid               start_time   \n",
       "0  9900289692                         Walk Up    248  2015-10-02 21:12:01 UTC  \\\n",
       "1  9900285987  24-Hour Kiosk (Austin B-cycle)    446  2014-10-26 15:12:00 UTC   \n",
       "2  9900285989  24-Hour Kiosk (Austin B-cycle)    203  2014-10-26 15:12:00 UTC   \n",
       "3  9900285991  24-Hour Kiosk (Austin B-cycle)    101  2014-10-26 15:12:00 UTC   \n",
       "4  9900286140  24-Hour Kiosk (Austin B-cycle)    242  2014-10-26 18:12:00 UTC   \n",
       "\n",
       "  start_station_id               start_station_name end_station_id   \n",
       "0             1006                 Zilker Park West           1008  \\\n",
       "1             2712          Toomey Rd @ South Lamar           2712   \n",
       "2             2712          Toomey Rd @ South Lamar           2712   \n",
       "3             2712          Toomey Rd @ South Lamar           2712   \n",
       "4             2541  State Capitol @ 14th & Colorado           2541   \n",
       "\n",
       "                  end_station_name  duration_minutes  \n",
       "0                     Nueces @ 3rd                39  \n",
       "1          Toomey Rd @ South Lamar                31  \n",
       "2          Toomey Rd @ South Lamar                31  \n",
       "3          Toomey Rd @ South Lamar                30  \n",
       "4  State Capitol @ 14th & Colorado                19  "
      ]
     },
     "execution_count": 97,
     "metadata": {},
     "output_type": "execute_result"
    }
   ],
   "source": [
    "url = 'http://127.0.0.1:5000/trips/'\n",
    "res2 = requests.get(url)\n",
    "pd.DataFrame(res2.json()).head()"
   ]
  },
  {
   "cell_type": "markdown",
   "id": "adbd0b76-5fa5-4b0e-acfa-85774528130f",
   "metadata": {},
   "source": [
    "## Static and Dynamic Endpoints"
   ]
  },
  {
   "cell_type": "markdown",
   "id": "479eec15-63e3-421a-8227-0d46b6a7349c",
   "metadata": {},
   "source": [
    "On previous part we already made several endpoints which control how our server will react whenever users access it. \n",
    "If we take a look at the endpoints, it's all static : \n",
    "- `@app.route('/')`\n",
    "- `@app.route('/home/')`\n",
    "- `@app.route('/stations/')`\n",
    "- `@app.route('/trips/')`\n",
    "\n",
    "\n",
    "What if, instead of getting all the stations information, we only wanted to read a specific station information of station_id 3464 ? \\\n",
    "should we make an excact endpoint of that like `@app.route('stations/3464')`?. But what about the others? are we going to make a bunch of endpoints for each specific id like: \n",
    "- `@app.route('/stations/3464')`\n",
    "- `@app.route('/stations/2500')`\n",
    "- `@app.route('/stations/2541')`\n",
    "- and so on...\n",
    "\n",
    "Of course we shouldn't. One way to overcome the problem is by delcaring a **dynamic endpoints**. Basically, it's an endpoint which allows user to insert a variable values in it. The final looks of the dynamic endpoint version of above problem is: \n",
    "- `@app.route('stations/<station_id>')`\n",
    "\n",
    "From above endpoint, the \\<station_id\\> is the variable, and we need to make sure that it influence how our following function acts. The whole dynamic endpoints for getting specific station by its id will looks like: \n",
    "\n",
    "```python \n",
    "@app.route('/stations/<station_id>')\n",
    "def route_stations_id(station_id):\n",
    "    conn = make_connection()\n",
    "    station = get_station_id(station_id, conn)\n",
    "    return station.to_json()\n",
    "```\n"
   ]
  },
  {
   "cell_type": "markdown",
   "id": "4a91fb67-4645-4097-b266-e1c8f77c8b5d",
   "metadata": {},
   "source": [
    "Before accesing the endpoint, make sure that `make_connection()` and `get_station_id()` functions are included inside `app.py` script so that it won't raise an error. Now for the final step, we can try to access the dynamic endpoints by changing the `station_id` in the following codes"
   ]
  },
  {
   "cell_type": "code",
   "execution_count": 98,
   "id": "3d97afd6-6673-46c2-9ea8-6920dca5eba4",
   "metadata": {},
   "outputs": [],
   "source": [
    "station_id = 3464\n",
    "url = f\"http://127.0.0.1:5000/stations/{station_id}\""
   ]
  },
  {
   "cell_type": "code",
   "execution_count": 99,
   "id": "c948b850-fd61-4e3c-9b54-45c8741c3d21",
   "metadata": {},
   "outputs": [
    {
     "data": {
      "text/html": [
       "<div>\n",
       "<style scoped>\n",
       "    .dataframe tbody tr th:only-of-type {\n",
       "        vertical-align: middle;\n",
       "    }\n",
       "\n",
       "    .dataframe tbody tr th {\n",
       "        vertical-align: top;\n",
       "    }\n",
       "\n",
       "    .dataframe thead th {\n",
       "        text-align: right;\n",
       "    }\n",
       "</style>\n",
       "<table border=\"1\" class=\"dataframe\">\n",
       "  <thead>\n",
       "    <tr style=\"text-align: right;\">\n",
       "      <th></th>\n",
       "      <th>station_id</th>\n",
       "      <th>name</th>\n",
       "      <th>status</th>\n",
       "      <th>address</th>\n",
       "      <th>alternate_name</th>\n",
       "      <th>city_asset_number</th>\n",
       "      <th>property_type</th>\n",
       "      <th>number_of_docks</th>\n",
       "      <th>power_type</th>\n",
       "      <th>footprint_length</th>\n",
       "      <th>footprint_width</th>\n",
       "      <th>notes</th>\n",
       "      <th>council_district</th>\n",
       "      <th>modified_date</th>\n",
       "    </tr>\n",
       "  </thead>\n",
       "  <tbody>\n",
       "    <tr>\n",
       "      <th>0</th>\n",
       "      <td>3464</td>\n",
       "      <td>Pease Park</td>\n",
       "      <td>closed</td>\n",
       "      <td>1155 Kingsbury St</td>\n",
       "      <td></td>\n",
       "      <td></td>\n",
       "      <td></td>\n",
       "      <td></td>\n",
       "      <td></td>\n",
       "      <td></td>\n",
       "      <td></td>\n",
       "      <td></td>\n",
       "      <td>9</td>\n",
       "      <td>2021-01-04T12:00:00Z</td>\n",
       "    </tr>\n",
       "  </tbody>\n",
       "</table>\n",
       "</div>"
      ],
      "text/plain": [
       "   station_id        name  status            address alternate_name   \n",
       "0        3464  Pease Park  closed  1155 Kingsbury St                 \\\n",
       "\n",
       "  city_asset_number property_type number_of_docks power_type footprint_length   \n",
       "0                                                                              \\\n",
       "\n",
       "  footprint_width notes  council_district         modified_date  \n",
       "0                                       9  2021-01-04T12:00:00Z  "
      ]
     },
     "execution_count": 99,
     "metadata": {},
     "output_type": "execute_result"
    }
   ],
   "source": [
    "response = requests.get(url)\n",
    "pd.DataFrame(response.json())"
   ]
  },
  {
   "cell_type": "markdown",
   "id": "7c5ca64f-b5ae-4fe3-890f-71419a69bfa3",
   "metadata": {},
   "source": [
    "**TASK: Implement dynamic endpoints to read specific trip by its trip_id!** \\\n",
    "Place it under `@app.route('/trips/<trip_id>')` endpoint"
   ]
  },
  {
   "cell_type": "markdown",
   "id": "52ec2ce8-6950-4c20-9bdb-38e35311d26a",
   "metadata": {},
   "source": [
    "## Handling JSON data as input"
   ]
  },
  {
   "cell_type": "markdown",
   "id": "d694cb3a-c753-4aeb-880f-458236146532",
   "metadata": {},
   "source": [
    "Sometimes, in order to make something happens in our API, we need the user to send us the data. In this case, we need to handle how we can get the data (which mostly sent as json format) and utilize it inside our endpoint functions. \n",
    "\n",
    "In order to achieve that, we will be using flask's `request` classes.\n",
    "\n",
    "\n",
    "```python\n",
    "@app.route('/json') \n",
    "def json_example():\n",
    "    \n",
    "    req = request.get_json(force=True) # Parse the incoming json data as Dictionary\n",
    "    \n",
    "    name = req['name']\n",
    "    age = req['age']\n",
    "    address = req['address']\n",
    "    \n",
    "    return (f'''Hello {name}, your age is {age}, and your address in {address}\n",
    "            ''')\n",
    "```"
   ]
  },
  {
   "cell_type": "code",
   "execution_count": 100,
   "id": "33519e1a-3cd1-4abc-9a20-c2d981fad894",
   "metadata": {},
   "outputs": [],
   "source": [
    "data = {\n",
    "    \"name\" : \"Andi\", \n",
    "    \"age\" : 24,\n",
    "    \"address\" : \"my adress\"\n",
    "}\n",
    "\n",
    "url = \"http://127.0.0.1:5000/json\""
   ]
  },
  {
   "cell_type": "code",
   "execution_count": 101,
   "id": "9b66724f-6439-4aec-a8b5-48b4a781521b",
   "metadata": {},
   "outputs": [],
   "source": [
    "res = requests.post(url, json=data)"
   ]
  },
  {
   "cell_type": "code",
   "execution_count": 102,
   "id": "3e0f21c9-402a-4b12-bcc7-4c4534f23e5c",
   "metadata": {},
   "outputs": [
    {
     "data": {
      "text/plain": [
       "<Response [200]>"
      ]
     },
     "execution_count": 102,
     "metadata": {},
     "output_type": "execute_result"
    }
   ],
   "source": [
    "res"
   ]
  },
  {
   "cell_type": "code",
   "execution_count": 103,
   "id": "59d76173-58d9-4e38-a50d-a1ac72c3519f",
   "metadata": {},
   "outputs": [
    {
     "data": {
      "text/plain": [
       "'Hello Andi, your age is 24, and your address in my adress\\n            '"
      ]
     },
     "execution_count": 103,
     "metadata": {},
     "output_type": "execute_result"
    }
   ],
   "source": [
    "res.text"
   ]
  },
  {
   "cell_type": "markdown",
   "id": "188e3467-bff8-4919-bc90-a86cb8c4eaff",
   "metadata": {},
   "source": [
    "Now that we already know how to handle json input, we can try to implement and endpoint in which we can insert new data into `stations` table. "
   ]
  },
  {
   "cell_type": "markdown",
   "id": "1729b881-beac-48ef-bc19-01cda9a6d77a",
   "metadata": {},
   "source": [
    "```python\n",
    "\n",
    "@app.route('/stations/add', methods=['POST']) \n",
    "def route_add_station():\n",
    "    # parse and transform incoming data into a tuple as we need \n",
    "    data = pd.Series(eval(request.get_json(force=True)))\n",
    "    data = tuple(data.fillna('').values)\n",
    "    \n",
    "    conn = make_connection()\n",
    "    result = insert_into_stations(data, conn)\n",
    "    return result\n",
    "\n",
    "\n",
    "```"
   ]
  },
  {
   "cell_type": "code",
   "execution_count": 104,
   "id": "00348fc5-105b-41c7-a5e6-e69e1c19b4fa",
   "metadata": {},
   "outputs": [],
   "source": [
    "class NpEncoder(json.JSONEncoder):\n",
    "    def default(self, obj):\n",
    "        if isinstance(obj, np.integer):\n",
    "            return int(obj)\n",
    "        if isinstance(obj, np.floating):\n",
    "            return float(obj)\n",
    "        if isinstance(obj, np.ndarray):\n",
    "            return obj.tolist()\n",
    "        return super(NpEncoder, self).default(obj)"
   ]
  },
  {
   "cell_type": "code",
   "execution_count": 105,
   "id": "12746054-6c95-4a95-a6a0-37a2dc24c347",
   "metadata": {},
   "outputs": [],
   "source": [
    "data = stations.iloc[20].fillna('').to_dict()\n",
    "data_json = json.dumps(data, cls=NpEncoder)"
   ]
  },
  {
   "cell_type": "code",
   "execution_count": 106,
   "id": "b9eef315-96d2-46e3-b5ab-07d34e299629",
   "metadata": {},
   "outputs": [],
   "source": [
    "url = \"http://127.0.0.1:5000/stations/add\"\n",
    "res = requests.post(url, json=data_json)"
   ]
  },
  {
   "cell_type": "code",
   "execution_count": 107,
   "id": "fa80e62f-75c4-47f5-a0fb-3eaa08200b66",
   "metadata": {},
   "outputs": [
    {
     "data": {
      "text/plain": [
       "<Response [200]>"
      ]
     },
     "execution_count": 107,
     "metadata": {},
     "output_type": "execute_result"
    }
   ],
   "source": [
    "res"
   ]
  },
  {
   "cell_type": "code",
   "execution_count": 108,
   "id": "8996edb2",
   "metadata": {},
   "outputs": [
    {
     "data": {
      "text/plain": [
       "'Error'"
      ]
     },
     "execution_count": 108,
     "metadata": {},
     "output_type": "execute_result"
    }
   ],
   "source": [
    "res.text"
   ]
  },
  {
   "cell_type": "code",
   "execution_count": 109,
   "id": "7a0d3ece-e370-4861-9c03-31361c394c01",
   "metadata": {},
   "outputs": [
    {
     "name": "stderr",
     "output_type": "stream",
     "text": [
      "14it [01:23,  5.95s/it]\n",
      "\n",
      "KeyboardInterrupt\n",
      "\n"
     ]
    }
   ],
   "source": [
    "# Sintaks for iteratively insert stations (from stations_csv) into stations table\n",
    "\n",
    "for idx, data in tqdm(stations.iterrows()):\n",
    "    data = data.fillna('').to_dict()\n",
    "    data_json = json.dumps(data, cls=NpEncoder)\n",
    "    \n",
    "    url = \"http://127.0.0.1:5000/stations/add\"\n",
    "    res = requests.post(url, json=data_json)"
   ]
  },
  {
   "cell_type": "markdown",
   "id": "f7d0f146-9af5-4873-816e-d7a1990d0d2e",
   "metadata": {},
   "source": [
    "**TASK: Using the API, insert all the trips data (in csv) into the database by running the following codes**\\\n",
    "It might run differently on each devices, so you might get some rest while waiting for it to complete"
   ]
  },
  {
   "cell_type": "code",
   "execution_count": null,
   "id": "f943160a-230d-4548-8685-25c17d8f0641",
   "metadata": {},
   "outputs": [],
   "source": [
    "for idx, data in tqdm(trips.iterrows()):\n",
    "    data = data.fillna('').to_dict()\n",
    "    data_json = json.dumps(data, cls=NpEncoder)\n",
    "    \n",
    "    url = \"http://127.0.0.1:5000/trips/add\"\n",
    "    res = requests.post(url, json=data_json)"
   ]
  },
  {
   "cell_type": "code",
   "execution_count": null,
   "id": "7f4adf19",
   "metadata": {},
   "outputs": [],
   "source": [
    "res"
   ]
  },
  {
   "cell_type": "markdown",
   "id": "e9ca0d0f-f38d-4ce2-b7e2-961452ab315e",
   "metadata": {},
   "source": [
    "# Make your own analytic endpoints"
   ]
  },
  {
   "cell_type": "markdown",
   "id": "7a8500f2-9e2f-4515-8ce1-ce4a581132b5",
   "metadata": {},
   "source": [
    "Based on what we've learned before, create your own endpoints which returns analytical result such as contigency tables, aggregation tables, or even just a values.\n",
    "\n",
    "*ps: if the return is dataframe/series, don't forget to change it into json with `.to_json()` method*"
   ]
  },
  {
   "cell_type": "markdown",
   "id": "ce22ac68-1a8d-4030-9a9a-1764a074dde5",
   "metadata": {},
   "source": [
    "\n",
    "- [x] 1 point - Created Flask App\n",
    "- [x] 4 points - Created functionality to input new data into each table for the databases\n",
    "- [x] 2 poitns - Created functionality to read or get specific data from the database\n",
    "- [ ] 3 points - Created static endpoints which return analytical result (must be different from point 2,3)\n",
    "- [ ] 3 points - Created dynamic endpoints which return analytical result (must be different from point 2,3,4)\n",
    "- [ ] 3 points - Created POST endpoint which receive input data, then utilize it to get analytical result (must be different from point 2,3,4,5)\n"
   ]
  },
  {
   "cell_type": "markdown",
   "id": "9349b196-e43e-4bbc-8d71-75c2f957d9af",
   "metadata": {},
   "source": [
    "## Create Static Endpoint(s)"
   ]
  },
  {
   "cell_type": "markdown",
   "id": "0ba0e764-89a5-4189-a24a-837c8fbf304c",
   "metadata": {},
   "source": [
    "You can use the following cell to try-out your function before implementing it as an endpoint.\n",
    "\n",
    "After created the endpoint, make sure to implement it to `app.py` file."
   ]
  },
  {
   "cell_type": "code",
   "execution_count": 117,
   "id": "8867038e-0ad4-4ea3-94e6-6cf904ea18a8",
   "metadata": {},
   "outputs": [],
   "source": [
    "# Your Code Here \n",
    "def route_all_trips_avg():\n",
    "    conn = make_connection()\n",
    "    avg = get_all_trips_avg(conn)\n",
    "    return str(avg)"
   ]
  },
  {
   "cell_type": "code",
   "execution_count": 119,
   "id": "68f2cebd",
   "metadata": {},
   "outputs": [
    {
     "data": {
      "text/plain": [
       "'30.79744140750157'"
      ]
     },
     "execution_count": 119,
     "metadata": {},
     "output_type": "execute_result"
    }
   ],
   "source": [
    "def get_all_trips_avg(conn):\n",
    "    query = f\"\"\"SELECT duration_minutes FROM trips\"\"\"\n",
    "    result = pd.read_sql_query(query, conn)\n",
    "    result.duration_minutes[result.duration_minutes==0]=result.duration_minutes.median()\n",
    "    result = result.duration_minutes.mean()\n",
    "    return result \n",
    "\n",
    "route_all_trips_avg()"
   ]
  },
  {
   "cell_type": "markdown",
   "id": "3f1c8d87-b066-48dc-b9db-2339aa3693db",
   "metadata": {},
   "source": [
    "## Create Dynamic Endpoints "
   ]
  },
  {
   "cell_type": "markdown",
   "id": "46eecec9-49c8-4c02-835a-cb4a813c41ad",
   "metadata": {},
   "source": [
    "You can use the following cell to try-out your function before implementing it as an endpoint.\n",
    "\n",
    "After created the endpoint, make sure to implement it to `app.py` file."
   ]
  },
  {
   "cell_type": "code",
   "execution_count": 121,
   "id": "9918b0ea-11df-4a03-af50-7138266a4072",
   "metadata": {},
   "outputs": [],
   "source": [
    "# Your Code Here\n",
    "def route_bikeid_trips_avg(bike_id):\n",
    "    conn = make_connection()\n",
    "    avg = get_bikeid_trips_avg(bike_id,conn)\n",
    "    return str(avg)"
   ]
  },
  {
   "cell_type": "code",
   "execution_count": 122,
   "id": "1f76a4f1",
   "metadata": {},
   "outputs": [
    {
     "data": {
      "text/plain": [
       "'28.140243902439025'"
      ]
     },
     "execution_count": 122,
     "metadata": {},
     "output_type": "execute_result"
    }
   ],
   "source": [
    "\n",
    "def get_bikeid_trips_avg(bike_id,conn):\n",
    "    query = f\"\"\"SELECT duration_minutes FROM trips WHERE bikeid = {bike_id}\"\"\"\n",
    "    result = pd.read_sql_query(query, conn)\n",
    "    result.duration_minutes[result.duration_minutes==0]=result.duration_minutes.median()\n",
    "    result = result.duration_minutes.mean()\n",
    "    return result\n",
    "\n",
    "route_bikeid_trips_avg(417)"
   ]
  },
  {
   "cell_type": "markdown",
   "id": "712aeb14-8f96-4df5-a2eb-5a42e083dddc",
   "metadata": {},
   "source": [
    "## Create POST Endpoints"
   ]
  },
  {
   "cell_type": "markdown",
   "id": "d518c6a2-6fc7-4eb0-91a7-c7ba25db5bce",
   "metadata": {},
   "source": [
    "You can use the following cell to try-out your function before implementing it as an endpoint.\n",
    "\n",
    "If you still find it quite difficult, here's an example case you might wanted to try on:\n",
    "- input : a dictionary contained a datetime period\n",
    "    - { \"period\" : \"2015-08\" }\n",
    "- output:\n",
    "    - Aggregation table of bike rent activities for each station in that specific period\n",
    "- example code: \n",
    "\n",
    "```python \n",
    "input_data = request.get_json() # Get the input as dictionary\n",
    "specified_date = input_data['period'] # Select specific items (period) from the dictionary (the value will be \"2015-08\")\n",
    "\n",
    "# Subset the data with query \n",
    "conn = make_connection()\n",
    "query = f\"SELECT * FROM stations WHERE start_time LIKE ({specified_date}%)\"\n",
    "selected_data = pd.read_sql_query(query, conn)\n",
    "\n",
    "# Make the aggregate\n",
    "result = selected_data.groupby('start_station_id').agg({\n",
    "    'bikeid' : 'count', \n",
    "    'duration_minutes' : 'mean'\n",
    "})\n",
    "\n",
    "# Return the result\n",
    "return result.to_json()\n",
    "\n",
    "```\n",
    "\n",
    "After created the endpoint, make sure to implement it to app.py file."
   ]
  },
  {
   "cell_type": "code",
   "execution_count": 157,
   "id": "d915835b",
   "metadata": {},
   "outputs": [
    {
     "data": {
      "text/html": [
       "<div>\n",
       "<style scoped>\n",
       "    .dataframe tbody tr th:only-of-type {\n",
       "        vertical-align: middle;\n",
       "    }\n",
       "\n",
       "    .dataframe tbody tr th {\n",
       "        vertical-align: top;\n",
       "    }\n",
       "\n",
       "    .dataframe thead th {\n",
       "        text-align: right;\n",
       "    }\n",
       "</style>\n",
       "<table border=\"1\" class=\"dataframe\">\n",
       "  <thead>\n",
       "    <tr style=\"text-align: right;\">\n",
       "      <th></th>\n",
       "      <th>bikeid</th>\n",
       "      <th>duration_minutes</th>\n",
       "    </tr>\n",
       "    <tr>\n",
       "      <th>start_station_id</th>\n",
       "      <th></th>\n",
       "      <th></th>\n",
       "    </tr>\n",
       "  </thead>\n",
       "  <tbody>\n",
       "    <tr>\n",
       "      <th>2494</th>\n",
       "      <td>738</td>\n",
       "      <td>28.624661</td>\n",
       "    </tr>\n",
       "    <tr>\n",
       "      <th>2495</th>\n",
       "      <td>1162</td>\n",
       "      <td>20.868330</td>\n",
       "    </tr>\n",
       "    <tr>\n",
       "      <th>2496</th>\n",
       "      <td>573</td>\n",
       "      <td>36.230366</td>\n",
       "    </tr>\n",
       "    <tr>\n",
       "      <th>2497</th>\n",
       "      <td>604</td>\n",
       "      <td>27.326159</td>\n",
       "    </tr>\n",
       "    <tr>\n",
       "      <th>2498</th>\n",
       "      <td>798</td>\n",
       "      <td>24.568922</td>\n",
       "    </tr>\n",
       "    <tr>\n",
       "      <th>2499</th>\n",
       "      <td>1121</td>\n",
       "      <td>24.771632</td>\n",
       "    </tr>\n",
       "    <tr>\n",
       "      <th>2501</th>\n",
       "      <td>900</td>\n",
       "      <td>16.326667</td>\n",
       "    </tr>\n",
       "    <tr>\n",
       "      <th>2502</th>\n",
       "      <td>733</td>\n",
       "      <td>28.788540</td>\n",
       "    </tr>\n",
       "    <tr>\n",
       "      <th>2503</th>\n",
       "      <td>606</td>\n",
       "      <td>34.229373</td>\n",
       "    </tr>\n",
       "    <tr>\n",
       "      <th>2504</th>\n",
       "      <td>479</td>\n",
       "      <td>29.851775</td>\n",
       "    </tr>\n",
       "    <tr>\n",
       "      <th>2536</th>\n",
       "      <td>301</td>\n",
       "      <td>26.661130</td>\n",
       "    </tr>\n",
       "    <tr>\n",
       "      <th>2537</th>\n",
       "      <td>438</td>\n",
       "      <td>24.536530</td>\n",
       "    </tr>\n",
       "    <tr>\n",
       "      <th>2538</th>\n",
       "      <td>414</td>\n",
       "      <td>26.814010</td>\n",
       "    </tr>\n",
       "    <tr>\n",
       "      <th>2540</th>\n",
       "      <td>290</td>\n",
       "      <td>26.234483</td>\n",
       "    </tr>\n",
       "    <tr>\n",
       "      <th>2541</th>\n",
       "      <td>167</td>\n",
       "      <td>30.359281</td>\n",
       "    </tr>\n",
       "    <tr>\n",
       "      <th>2542</th>\n",
       "      <td>216</td>\n",
       "      <td>24.629630</td>\n",
       "    </tr>\n",
       "    <tr>\n",
       "      <th>2544</th>\n",
       "      <td>139</td>\n",
       "      <td>21.366906</td>\n",
       "    </tr>\n",
       "    <tr>\n",
       "      <th>2545</th>\n",
       "      <td>121</td>\n",
       "      <td>27.322314</td>\n",
       "    </tr>\n",
       "    <tr>\n",
       "      <th>2547</th>\n",
       "      <td>223</td>\n",
       "      <td>30.372197</td>\n",
       "    </tr>\n",
       "    <tr>\n",
       "      <th>2548</th>\n",
       "      <td>382</td>\n",
       "      <td>40.937173</td>\n",
       "    </tr>\n",
       "    <tr>\n",
       "      <th>2549</th>\n",
       "      <td>529</td>\n",
       "      <td>31.780718</td>\n",
       "    </tr>\n",
       "    <tr>\n",
       "      <th>2550</th>\n",
       "      <td>655</td>\n",
       "      <td>21.170992</td>\n",
       "    </tr>\n",
       "    <tr>\n",
       "      <th>2552</th>\n",
       "      <td>349</td>\n",
       "      <td>17.661891</td>\n",
       "    </tr>\n",
       "    <tr>\n",
       "      <th>2561</th>\n",
       "      <td>163</td>\n",
       "      <td>24.361963</td>\n",
       "    </tr>\n",
       "    <tr>\n",
       "      <th>2562</th>\n",
       "      <td>428</td>\n",
       "      <td>24.967290</td>\n",
       "    </tr>\n",
       "    <tr>\n",
       "      <th>2563</th>\n",
       "      <td>651</td>\n",
       "      <td>25.517665</td>\n",
       "    </tr>\n",
       "    <tr>\n",
       "      <th>2564</th>\n",
       "      <td>107</td>\n",
       "      <td>16.607477</td>\n",
       "    </tr>\n",
       "    <tr>\n",
       "      <th>2565</th>\n",
       "      <td>396</td>\n",
       "      <td>47.060606</td>\n",
       "    </tr>\n",
       "    <tr>\n",
       "      <th>2566</th>\n",
       "      <td>675</td>\n",
       "      <td>25.734815</td>\n",
       "    </tr>\n",
       "    <tr>\n",
       "      <th>2567</th>\n",
       "      <td>524</td>\n",
       "      <td>31.908397</td>\n",
       "    </tr>\n",
       "    <tr>\n",
       "      <th>2569</th>\n",
       "      <td>323</td>\n",
       "      <td>23.609907</td>\n",
       "    </tr>\n",
       "    <tr>\n",
       "      <th>2570</th>\n",
       "      <td>663</td>\n",
       "      <td>37.277526</td>\n",
       "    </tr>\n",
       "    <tr>\n",
       "      <th>2571</th>\n",
       "      <td>345</td>\n",
       "      <td>40.110145</td>\n",
       "    </tr>\n",
       "    <tr>\n",
       "      <th>2572</th>\n",
       "      <td>331</td>\n",
       "      <td>29.296073</td>\n",
       "    </tr>\n",
       "    <tr>\n",
       "      <th>2575</th>\n",
       "      <td>895</td>\n",
       "      <td>36.993296</td>\n",
       "    </tr>\n",
       "    <tr>\n",
       "      <th>2707</th>\n",
       "      <td>850</td>\n",
       "      <td>30.689412</td>\n",
       "    </tr>\n",
       "    <tr>\n",
       "      <th>2711</th>\n",
       "      <td>684</td>\n",
       "      <td>28.223684</td>\n",
       "    </tr>\n",
       "    <tr>\n",
       "      <th>2712</th>\n",
       "      <td>329</td>\n",
       "      <td>28.033435</td>\n",
       "    </tr>\n",
       "    <tr>\n",
       "      <th>2822</th>\n",
       "      <td>274</td>\n",
       "      <td>21.788321</td>\n",
       "    </tr>\n",
       "    <tr>\n",
       "      <th>2823</th>\n",
       "      <td>125</td>\n",
       "      <td>24.504000</td>\n",
       "    </tr>\n",
       "    <tr>\n",
       "      <th></th>\n",
       "      <td>3094</td>\n",
       "      <td>30.713639</td>\n",
       "    </tr>\n",
       "  </tbody>\n",
       "</table>\n",
       "</div>"
      ],
      "text/plain": [
       "                  bikeid  duration_minutes\n",
       "start_station_id                          \n",
       "2494                 738         28.624661\n",
       "2495                1162         20.868330\n",
       "2496                 573         36.230366\n",
       "2497                 604         27.326159\n",
       "2498                 798         24.568922\n",
       "2499                1121         24.771632\n",
       "2501                 900         16.326667\n",
       "2502                 733         28.788540\n",
       "2503                 606         34.229373\n",
       "2504                 479         29.851775\n",
       "2536                 301         26.661130\n",
       "2537                 438         24.536530\n",
       "2538                 414         26.814010\n",
       "2540                 290         26.234483\n",
       "2541                 167         30.359281\n",
       "2542                 216         24.629630\n",
       "2544                 139         21.366906\n",
       "2545                 121         27.322314\n",
       "2547                 223         30.372197\n",
       "2548                 382         40.937173\n",
       "2549                 529         31.780718\n",
       "2550                 655         21.170992\n",
       "2552                 349         17.661891\n",
       "2561                 163         24.361963\n",
       "2562                 428         24.967290\n",
       "2563                 651         25.517665\n",
       "2564                 107         16.607477\n",
       "2565                 396         47.060606\n",
       "2566                 675         25.734815\n",
       "2567                 524         31.908397\n",
       "2569                 323         23.609907\n",
       "2570                 663         37.277526\n",
       "2571                 345         40.110145\n",
       "2572                 331         29.296073\n",
       "2575                 895         36.993296\n",
       "2707                 850         30.689412\n",
       "2711                 684         28.223684\n",
       "2712                 329         28.033435\n",
       "2822                 274         21.788321\n",
       "2823                 125         24.504000\n",
       "                    3094         30.713639"
      ]
     },
     "execution_count": 157,
     "metadata": {},
     "output_type": "execute_result"
    }
   ],
   "source": [
    "# Your Code Here\n",
    "input_data={ \"period\" : \"2014-10\" }\n",
    "specified_date = input_data['period']\n",
    "specified_date\n",
    "\n",
    "conn = make_connection()\n",
    "query = f\"\"\"SELECT * FROM trips WHERE start_time LIKE (\"{specified_date}%\")\"\"\"\n",
    "\n",
    "selected_data = pd.read_sql_query(query, conn)\n",
    "\n",
    "result = selected_data.groupby('start_station_id').agg({\n",
    "    'bikeid' : 'count', \n",
    "    'duration_minutes' : 'mean'\n",
    "})\n",
    "result\n"
   ]
  },
  {
   "cell_type": "code",
   "execution_count": 159,
   "id": "24576ebe",
   "metadata": {},
   "outputs": [
    {
     "data": {
      "text/plain": [
       "<Response [200]>"
      ]
     },
     "execution_count": 159,
     "metadata": {},
     "output_type": "execute_result"
    }
   ],
   "source": [
    "res = requests.post('http://127.0.0.1:5000/getinfo', json={ \"period\" : \"2015-08\" })\n",
    "res"
   ]
  },
  {
   "cell_type": "markdown",
   "id": "46bbfb18",
   "metadata": {},
   "source": [
    "# Submission\n",
    "\n",
    "After finishing your work of all the rubrics, the next step will be;\n",
    "\n",
    "1. Prepare your `Bikeshare API.ipynb` file that has been edited with your code and wrangling data.\n",
    "2. Prepare your `app.py` file for your Flask App. Make sure you have implemented all the endpoints to `app.py` (including your custom static, dynamic and post endpoints).\n",
    "3. Submit your `Bikeshare API.ipynb` and `app.py` file in your github repository. The dataset is optional to post since it has big size to post. \n",
    "\n"
   ]
  }
 ],
 "metadata": {
  "kernelspec": {
   "display_name": "wizard_da",
   "language": "python",
   "name": "wizard_da"
  },
  "language_info": {
   "codemirror_mode": {
    "name": "ipython",
    "version": 3
   },
   "file_extension": ".py",
   "mimetype": "text/x-python",
   "name": "python",
   "nbconvert_exporter": "python",
   "pygments_lexer": "ipython3",
   "version": "3.10.12"
  },
  "toc": {
   "base_numbering": 1,
   "nav_menu": {},
   "number_sections": true,
   "sideBar": true,
   "skip_h1_title": false,
   "title_cell": "Table of Contents",
   "title_sidebar": "Contents",
   "toc_cell": false,
   "toc_position": {},
   "toc_section_display": true,
   "toc_window_display": false
  },
  "toc-autonumbering": true
 },
 "nbformat": 4,
 "nbformat_minor": 5
}
